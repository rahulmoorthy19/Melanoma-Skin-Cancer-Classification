{
 "cells": [
  {
   "cell_type": "code",
   "execution_count": null,
   "metadata": {},
   "outputs": [],
   "source": [
    "import pandas as pd\n",
    "from skimage.segmentation import slic,quickshift\n",
    "from skimage.segmentation import mark_boundaries\n",
    "from skimage.util import img_as_float\n",
    "from skimage import io\n",
    "import matplotlib.pyplot as plt\n",
    "from PIL import Image\n",
    "import numpy as np\n",
    "from skimage.future import graph\n",
    "import networkx\n",
    "import glob"
   ]
  },
  {
   "cell_type": "code",
   "execution_count": null,
   "metadata": {},
   "outputs": [],
   "source": [
    "def get_filelist(img_loc):\n",
    "    filelist = glob.glob(img_loc+'*.jpg')\n",
    "    filelist.sort()\n",
    "    return filelist"
   ]
  },
  {
   "cell_type": "code",
   "execution_count": null,
   "metadata": {},
   "outputs": [],
   "source": [
    "filelist=get_filelist(\"/home/sirzechlucifer/Work/CVPR_graphs/ISIC2018_input/\")"
   ]
  },
  {
   "cell_type": "code",
   "execution_count": null,
   "metadata": {},
   "outputs": [],
   "source": [
    "def preprocessing(filelist):\n",
    "    X_orig = np.empty([10015, 110, 110])\n",
    "    for i, fname in enumerate(filelist):\n",
    "        image = img_as_float(io.imread(fname))\n",
    "        segments = slic(image, n_segments = 100, sigma = 5)\n",
    "        rag = graph.rag_mean_color(image, segments)\n",
    "        graph_array=networkx.to_numpy_matrix(rag)\n",
    "        if graph_array.shape[0]==110:\n",
    "            X_orig[i] =graph_array\n",
    "        else:\n",
    "            result = np.zeros((110,110))\n",
    "            result[:graph_array.shape[0],:graph_array.shape[1]] = graph_array\n",
    "            X_orig[i]=result\n",
    "        if i%100==0:\n",
    "            print(str(i)+\" images done!!\")\n",
    "    return X_orig  "
   ]
  },
  {
   "cell_type": "code",
   "execution_count": null,
   "metadata": {},
   "outputs": [],
   "source": [
    "X_orig=preprocessing(filelist)"
   ]
  },
  {
   "cell_type": "code",
   "execution_count": null,
   "metadata": {},
   "outputs": [],
   "source": [
    "X_orig.shape"
   ]
  },
  {
   "cell_type": "code",
   "execution_count": null,
   "metadata": {},
   "outputs": [],
   "source": [
    "X_orig=X_orig.reshape((10015,12100))"
   ]
  },
  {
   "cell_type": "code",
   "execution_count": null,
   "metadata": {},
   "outputs": [],
   "source": [
    "np.save('rag_features.npy', X_orig)"
   ]
  }
 ],
 "metadata": {
  "kernelspec": {
   "display_name": "Python 3",
   "language": "python",
   "name": "python3"
  },
  "language_info": {
   "codemirror_mode": {
    "name": "ipython",
    "version": 3
   },
   "file_extension": ".py",
   "mimetype": "text/x-python",
   "name": "python",
   "nbconvert_exporter": "python",
   "pygments_lexer": "ipython3",
   "version": "3.7.4"
  }
 },
 "nbformat": 4,
 "nbformat_minor": 2
}
