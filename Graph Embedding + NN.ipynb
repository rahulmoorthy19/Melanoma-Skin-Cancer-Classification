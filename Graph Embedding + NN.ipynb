{
 "cells": [
  {
   "cell_type": "code",
   "execution_count": 2,
   "metadata": {},
   "outputs": [],
   "source": [
    "import pandas as pd\n",
    "from skimage.segmentation import slic,quickshift\n",
    "from skimage.segmentation import mark_boundaries\n",
    "from skimage.util import img_as_float\n",
    "from skimage import io\n",
    "import matplotlib.pyplot as plt\n",
    "from PIL import Image\n",
    "import numpy as np\n",
    "from skimage.future import graph\n",
    "import networkx\n",
    "import glob"
   ]
  },
  {
   "cell_type": "code",
   "execution_count": 3,
   "metadata": {},
   "outputs": [],
   "source": [
    "X_orig=np.load(\"graph_embedding.npy\")"
   ]
  },
  {
   "cell_type": "code",
   "execution_count": 4,
   "metadata": {},
   "outputs": [],
   "source": [
    "Y_df = pd.read_csv('/home/sirzechlucifer/Work/CVPR_graphs/ISIC2018_target/ISIC2018_Task3_Training_GroundTruth.csv')"
   ]
  },
  {
   "cell_type": "code",
   "execution_count": 6,
   "metadata": {},
   "outputs": [],
   "source": [
    "def get_Y_orig(labels_loc):\n",
    "    #output_list=list()\n",
    "    Y_df = pd.read_csv(labels_loc)\n",
    "    Y_df=Y_df.iloc[:,1:]\n",
    "#     for index,row in Y_df.iterrows():\n",
    "#         if row[\"MEL\"]==1:\n",
    "#             output_list.append(0)\n",
    "#         elif row[\"NV\"]==1:\n",
    "#             output_list.append(1)\n",
    "#         elif row[\"BCC\"]==1:\n",
    "#             output_list.append(2)\n",
    "#         elif row[\"AKIEC\"]==1:\n",
    "#             output_list.append(3)\n",
    "#         elif row[\"BKL\"]==1:\n",
    "#             output_list.append(4)\n",
    "#         elif row[\"DF\"]==1:\n",
    "#             output_list.append(5)\n",
    "#         elif row[\"VASC\"]==1:\n",
    "#             output_list.append(6)\n",
    "    return Y_df"
   ]
  },
  {
   "cell_type": "code",
   "execution_count": 7,
   "metadata": {},
   "outputs": [],
   "source": [
    "labels_loc = '/home/sirzechlucifer/Work/CVPR_graphs/ISIC2018_target/ISIC2018_Task3_Training_GroundTruth.csv'\n",
    "\n",
    "Y_orig = get_Y_orig(labels_loc)"
   ]
  },
  {
   "cell_type": "code",
   "execution_count": 8,
   "metadata": {},
   "outputs": [
    {
     "name": "stdout",
     "output_type": "stream",
     "text": [
      "(10015, 7)\n",
      "(10015, 3200)\n"
     ]
    }
   ],
   "source": [
    "print(Y_orig.shape)\n",
    "print(X_orig.shape)"
   ]
  },
  {
   "cell_type": "code",
   "execution_count": 9,
   "metadata": {},
   "outputs": [
    {
     "name": "stderr",
     "output_type": "stream",
     "text": [
      "Using TensorFlow backend.\n"
     ]
    }
   ],
   "source": [
    "from keras.models import Sequential\n",
    "from keras.layers import Dense"
   ]
  },
  {
   "cell_type": "code",
   "execution_count": 10,
   "metadata": {},
   "outputs": [
    {
     "name": "stdout",
     "output_type": "stream",
     "text": [
      "WARNING:tensorflow:From /home/sirzechlucifer/anaconda3/lib/python3.7/site-packages/tensorflow_core/python/ops/resource_variable_ops.py:1630: calling BaseResourceVariable.__init__ (from tensorflow.python.ops.resource_variable_ops) with constraint is deprecated and will be removed in a future version.\n",
      "Instructions for updating:\n",
      "If using Keras pass *_constraint arguments to layers.\n"
     ]
    }
   ],
   "source": [
    "model = Sequential()\n",
    "model.add(Dense(12, input_dim=3200, activation='relu'))\n",
    "model.add(Dense(8, activation='relu'))\n",
    "model.add(Dense(7, activation='softmax'))"
   ]
  },
  {
   "cell_type": "code",
   "execution_count": 11,
   "metadata": {},
   "outputs": [],
   "source": [
    "model.compile(loss='categorical_crossentropy', optimizer='adam', metrics=['accuracy'])"
   ]
  },
  {
   "cell_type": "code",
   "execution_count": 12,
   "metadata": {},
   "outputs": [],
   "source": [
    "from sklearn.model_selection import train_test_split\n",
    "train_X,val_X,train_Y,val_Y= train_test_split(X_orig, Y_orig, test_size=0.3, shuffle= True)"
   ]
  },
  {
   "cell_type": "code",
   "execution_count": 15,
   "metadata": {},
   "outputs": [
    {
     "name": "stdout",
     "output_type": "stream",
     "text": [
      "Epoch 1/120\n",
      "7010/7010 [==============================] - 0s 34us/step - loss: 0.1459 - accuracy: 0.9623\n",
      "Epoch 2/120\n",
      "7010/7010 [==============================] - 0s 32us/step - loss: 0.1425 - accuracy: 0.9619\n",
      "Epoch 3/120\n",
      "7010/7010 [==============================] - 0s 31us/step - loss: 0.1325 - accuracy: 0.9638\n",
      "Epoch 4/120\n",
      "7010/7010 [==============================] - 0s 31us/step - loss: 0.1312 - accuracy: 0.9665\n",
      "Epoch 5/120\n",
      "7010/7010 [==============================] - 0s 31us/step - loss: 0.1282 - accuracy: 0.9670\n",
      "Epoch 6/120\n",
      "7010/7010 [==============================] - 0s 32us/step - loss: 0.1261 - accuracy: 0.9706\n",
      "Epoch 7/120\n",
      "7010/7010 [==============================] - 0s 31us/step - loss: 0.1291 - accuracy: 0.9700\n",
      "Epoch 8/120\n",
      "7010/7010 [==============================] - 0s 33us/step - loss: 0.1130 - accuracy: 0.9733\n",
      "Epoch 9/120\n",
      "7010/7010 [==============================] - 0s 33us/step - loss: 0.1119 - accuracy: 0.9746\n",
      "Epoch 10/120\n",
      "7010/7010 [==============================] - 0s 33us/step - loss: 0.1142 - accuracy: 0.9729\n",
      "Epoch 11/120\n",
      "7010/7010 [==============================] - 0s 33us/step - loss: 0.1109 - accuracy: 0.9746\n",
      "Epoch 12/120\n",
      "7010/7010 [==============================] - 0s 33us/step - loss: 0.0960 - accuracy: 0.9823\n",
      "Epoch 13/120\n",
      "7010/7010 [==============================] - 0s 33us/step - loss: 0.0924 - accuracy: 0.9830\n",
      "Epoch 14/120\n",
      "7010/7010 [==============================] - 0s 38us/step - loss: 0.0889 - accuracy: 0.9837\n",
      "Epoch 15/120\n",
      "7010/7010 [==============================] - 0s 35us/step - loss: 0.0916 - accuracy: 0.9825\n",
      "Epoch 16/120\n",
      "7010/7010 [==============================] - 0s 33us/step - loss: 0.0864 - accuracy: 0.9853\n",
      "Epoch 17/120\n",
      "7010/7010 [==============================] - 0s 33us/step - loss: 0.0833 - accuracy: 0.9860\n",
      "Epoch 18/120\n",
      "7010/7010 [==============================] - 0s 34us/step - loss: 0.0886 - accuracy: 0.9843\n",
      "Epoch 19/120\n",
      "7010/7010 [==============================] - 0s 33us/step - loss: 0.1001 - accuracy: 0.9785\n",
      "Epoch 20/120\n",
      "7010/7010 [==============================] - 0s 33us/step - loss: 0.1089 - accuracy: 0.9752\n",
      "Epoch 21/120\n",
      "7010/7010 [==============================] - 0s 35us/step - loss: 0.0825 - accuracy: 0.9845\n",
      "Epoch 22/120\n",
      "7010/7010 [==============================] - 0s 39us/step - loss: 0.0657 - accuracy: 0.9910\n",
      "Epoch 23/120\n",
      "7010/7010 [==============================] - 0s 38us/step - loss: 0.0597 - accuracy: 0.9929\n",
      "Epoch 24/120\n",
      "7010/7010 [==============================] - 0s 39us/step - loss: 0.0573 - accuracy: 0.9932\n",
      "Epoch 25/120\n",
      "7010/7010 [==============================] - 0s 36us/step - loss: 0.0582 - accuracy: 0.9930\n",
      "Epoch 26/120\n",
      "7010/7010 [==============================] - 0s 34us/step - loss: 0.0555 - accuracy: 0.9932\n",
      "Epoch 27/120\n",
      "7010/7010 [==============================] - 0s 34us/step - loss: 0.0508 - accuracy: 0.9953\n",
      "Epoch 28/120\n",
      "7010/7010 [==============================] - 0s 34us/step - loss: 0.0550 - accuracy: 0.9940\n",
      "Epoch 29/120\n",
      "7010/7010 [==============================] - 0s 34us/step - loss: 0.0595 - accuracy: 0.9927\n",
      "Epoch 30/120\n",
      "7010/7010 [==============================] - 0s 36us/step - loss: 0.0495 - accuracy: 0.9953\n",
      "Epoch 31/120\n",
      "7010/7010 [==============================] - 0s 38us/step - loss: 0.0428 - accuracy: 0.9961\n",
      "Epoch 32/120\n",
      "7010/7010 [==============================] - 0s 38us/step - loss: 0.0402 - accuracy: 0.9969\n",
      "Epoch 33/120\n",
      "7010/7010 [==============================] - 0s 35us/step - loss: 0.0384 - accuracy: 0.9973\n",
      "Epoch 34/120\n",
      "7010/7010 [==============================] - 0s 33us/step - loss: 0.0409 - accuracy: 0.9963\n",
      "Epoch 35/120\n",
      "7010/7010 [==============================] - 0s 33us/step - loss: 0.0360 - accuracy: 0.9970\n",
      "Epoch 36/120\n",
      "7010/7010 [==============================] - 0s 33us/step - loss: 0.0332 - accuracy: 0.9976\n",
      "Epoch 37/120\n",
      "7010/7010 [==============================] - 0s 34us/step - loss: 0.0328 - accuracy: 0.9977\n",
      "Epoch 38/120\n",
      "7010/7010 [==============================] - 0s 34us/step - loss: 0.0306 - accuracy: 0.9980\n",
      "Epoch 39/120\n",
      "7010/7010 [==============================] - 0s 33us/step - loss: 0.0284 - accuracy: 0.9980\n",
      "Epoch 40/120\n",
      "7010/7010 [==============================] - 0s 33us/step - loss: 0.0268 - accuracy: 0.9983\n",
      "Epoch 41/120\n",
      "7010/7010 [==============================] - 0s 38us/step - loss: 0.0260 - accuracy: 0.9986\n",
      "Epoch 42/120\n",
      "7010/7010 [==============================] - 0s 37us/step - loss: 0.3032 - accuracy: 0.9225\n",
      "Epoch 43/120\n",
      "7010/7010 [==============================] - 0s 34us/step - loss: 0.1219 - accuracy: 0.9608\n",
      "Epoch 44/120\n",
      "7010/7010 [==============================] - 0s 34us/step - loss: 0.0348 - accuracy: 0.9966\n",
      "Epoch 45/120\n",
      "7010/7010 [==============================] - 0s 34us/step - loss: 0.0258 - accuracy: 0.9984\n",
      "Epoch 46/120\n",
      "7010/7010 [==============================] - 0s 41us/step - loss: 0.0231 - accuracy: 0.9986\n",
      "Epoch 47/120\n",
      "7010/7010 [==============================] - 0s 35us/step - loss: 0.0218 - accuracy: 0.9989\n",
      "Epoch 48/120\n",
      "7010/7010 [==============================] - 0s 34us/step - loss: 0.0209 - accuracy: 0.9987\n",
      "Epoch 49/120\n",
      "7010/7010 [==============================] - 0s 34us/step - loss: 0.0201 - accuracy: 0.9990\n",
      "Epoch 50/120\n",
      "7010/7010 [==============================] - 0s 34us/step - loss: 0.0194 - accuracy: 0.9990\n",
      "Epoch 51/120\n",
      "7010/7010 [==============================] - 0s 34us/step - loss: 0.0188 - accuracy: 0.9990\n",
      "Epoch 52/120\n",
      "7010/7010 [==============================] - 0s 41us/step - loss: 0.0181 - accuracy: 0.9990\n",
      "Epoch 53/120\n",
      "7010/7010 [==============================] - 0s 33us/step - loss: 0.0176 - accuracy: 0.9991\n",
      "Epoch 54/120\n",
      "7010/7010 [==============================] - 0s 32us/step - loss: 0.0170 - accuracy: 0.9990\n",
      "Epoch 55/120\n",
      "7010/7010 [==============================] - 0s 32us/step - loss: 0.0166 - accuracy: 0.9991\n",
      "Epoch 56/120\n",
      "7010/7010 [==============================] - 0s 34us/step - loss: 0.0160 - accuracy: 0.9991\n",
      "Epoch 57/120\n",
      "7010/7010 [==============================] - 0s 33us/step - loss: 0.0155 - accuracy: 0.9991\n",
      "Epoch 58/120\n",
      "7010/7010 [==============================] - 0s 34us/step - loss: 0.0151 - accuracy: 0.9991\n",
      "Epoch 59/120\n",
      "7010/7010 [==============================] - 0s 35us/step - loss: 0.0148 - accuracy: 0.9991\n",
      "Epoch 60/120\n",
      "7010/7010 [==============================] - 0s 33us/step - loss: 0.0143 - accuracy: 0.9991\n",
      "Epoch 61/120\n",
      "7010/7010 [==============================] - 0s 35us/step - loss: 0.0138 - accuracy: 0.9991\n",
      "Epoch 62/120\n",
      "7010/7010 [==============================] - 0s 33us/step - loss: 0.0134 - accuracy: 0.9990\n",
      "Epoch 63/120\n",
      "7010/7010 [==============================] - 0s 32us/step - loss: 0.0128 - accuracy: 0.9993\n",
      "Epoch 64/120\n",
      "7010/7010 [==============================] - 0s 35us/step - loss: 0.0124 - accuracy: 0.9993\n",
      "Epoch 65/120\n",
      "7010/7010 [==============================] - 0s 34us/step - loss: 0.0120 - accuracy: 0.9993\n",
      "Epoch 66/120\n",
      "7010/7010 [==============================] - 0s 32us/step - loss: 0.0116 - accuracy: 0.9993\n",
      "Epoch 67/120\n",
      "7010/7010 [==============================] - 0s 35us/step - loss: 0.0115 - accuracy: 0.9991\n",
      "Epoch 68/120\n",
      "7010/7010 [==============================] - 0s 33us/step - loss: 0.0109 - accuracy: 0.9991\n",
      "Epoch 69/120\n",
      "7010/7010 [==============================] - 0s 34us/step - loss: 0.0106 - accuracy: 0.9993\n",
      "Epoch 70/120\n",
      "7010/7010 [==============================] - 0s 33us/step - loss: 0.0103 - accuracy: 0.9993\n",
      "Epoch 71/120\n",
      "7010/7010 [==============================] - 0s 34us/step - loss: 0.0097 - accuracy: 0.9993\n",
      "Epoch 72/120\n",
      "7010/7010 [==============================] - 0s 34us/step - loss: 0.2467 - accuracy: 0.9407\n",
      "Epoch 73/120\n",
      "7010/7010 [==============================] - 0s 34us/step - loss: 0.2269 - accuracy: 0.9334\n",
      "Epoch 74/120\n",
      "7010/7010 [==============================] - 0s 34us/step - loss: 0.0447 - accuracy: 0.9900\n",
      "Epoch 75/120\n",
      "7010/7010 [==============================] - 0s 34us/step - loss: 0.0192 - accuracy: 0.9977\n",
      "Epoch 76/120\n",
      "7010/7010 [==============================] - 0s 34us/step - loss: 0.0124 - accuracy: 0.9993\n",
      "Epoch 77/120\n",
      "7010/7010 [==============================] - 0s 31us/step - loss: 0.0109 - accuracy: 0.9993\n",
      "Epoch 78/120\n",
      "7010/7010 [==============================] - 0s 33us/step - loss: 0.0103 - accuracy: 0.9993\n",
      "Epoch 79/120\n"
     ]
    },
    {
     "name": "stdout",
     "output_type": "stream",
     "text": [
      "7010/7010 [==============================] - 0s 35us/step - loss: 0.0098 - accuracy: 0.9993\n",
      "Epoch 80/120\n",
      "7010/7010 [==============================] - 0s 33us/step - loss: 0.0094 - accuracy: 0.9993\n",
      "Epoch 81/120\n",
      "7010/7010 [==============================] - 0s 33us/step - loss: 0.0092 - accuracy: 0.9993\n",
      "Epoch 82/120\n",
      "7010/7010 [==============================] - 0s 33us/step - loss: 0.0089 - accuracy: 0.9993\n",
      "Epoch 83/120\n",
      "7010/7010 [==============================] - 0s 33us/step - loss: 0.0087 - accuracy: 0.9993\n",
      "Epoch 84/120\n",
      "7010/7010 [==============================] - 0s 33us/step - loss: 0.0084 - accuracy: 0.9993\n",
      "Epoch 85/120\n",
      "7010/7010 [==============================] - 0s 32us/step - loss: 0.0083 - accuracy: 0.9993\n",
      "Epoch 86/120\n",
      "7010/7010 [==============================] - 0s 34us/step - loss: 0.0080 - accuracy: 0.9993\n",
      "Epoch 87/120\n",
      "7010/7010 [==============================] - 0s 32us/step - loss: 0.0079 - accuracy: 0.9993\n",
      "Epoch 88/120\n",
      "7010/7010 [==============================] - 0s 35us/step - loss: 0.0076 - accuracy: 0.9994\n",
      "Epoch 89/120\n",
      "7010/7010 [==============================] - 0s 32us/step - loss: 0.0074 - accuracy: 0.9994\n",
      "Epoch 90/120\n",
      "7010/7010 [==============================] - 0s 35us/step - loss: 0.0073 - accuracy: 0.9994\n",
      "Epoch 91/120\n",
      "7010/7010 [==============================] - 0s 33us/step - loss: 0.0071 - accuracy: 0.9994\n",
      "Epoch 92/120\n",
      "7010/7010 [==============================] - 0s 34us/step - loss: 0.0070 - accuracy: 0.9994\n",
      "Epoch 93/120\n",
      "7010/7010 [==============================] - 0s 33us/step - loss: 0.0069 - accuracy: 0.9994\n",
      "Epoch 94/120\n",
      "7010/7010 [==============================] - 0s 33us/step - loss: 0.0067 - accuracy: 0.9994\n",
      "Epoch 95/120\n",
      "7010/7010 [==============================] - 0s 34us/step - loss: 0.0066 - accuracy: 0.9994\n",
      "Epoch 96/120\n",
      "7010/7010 [==============================] - 0s 34us/step - loss: 0.0065 - accuracy: 0.9994\n",
      "Epoch 97/120\n",
      "7010/7010 [==============================] - 0s 35us/step - loss: 0.0063 - accuracy: 0.9994\n",
      "Epoch 98/120\n",
      "7010/7010 [==============================] - 0s 33us/step - loss: 0.0061 - accuracy: 0.9994\n",
      "Epoch 99/120\n",
      "7010/7010 [==============================] - 0s 35us/step - loss: 0.0060 - accuracy: 0.9994\n",
      "Epoch 100/120\n",
      "7010/7010 [==============================] - 0s 34us/step - loss: 0.0059 - accuracy: 0.9994\n",
      "Epoch 101/120\n",
      "7010/7010 [==============================] - 0s 34us/step - loss: 0.0062 - accuracy: 0.9994\n",
      "Epoch 102/120\n",
      "7010/7010 [==============================] - 0s 36us/step - loss: 0.0060 - accuracy: 0.9994\n",
      "Epoch 103/120\n",
      "7010/7010 [==============================] - 0s 34us/step - loss: 0.0061 - accuracy: 0.9994\n",
      "Epoch 104/120\n",
      "7010/7010 [==============================] - 0s 35us/step - loss: 0.0059 - accuracy: 0.9994\n",
      "Epoch 105/120\n",
      "7010/7010 [==============================] - 0s 36us/step - loss: 0.0055 - accuracy: 0.9996\n",
      "Epoch 106/120\n",
      "7010/7010 [==============================] - 0s 34us/step - loss: 0.0772 - accuracy: 0.9810\n",
      "Epoch 107/120\n",
      "7010/7010 [==============================] - 0s 35us/step - loss: 0.3761 - accuracy: 0.9026\n",
      "Epoch 108/120\n",
      "7010/7010 [==============================] - 0s 34us/step - loss: 0.0525 - accuracy: 0.9852\n",
      "Epoch 109/120\n",
      "7010/7010 [==============================] - 0s 35us/step - loss: 0.0135 - accuracy: 0.9987\n",
      "Epoch 110/120\n",
      "7010/7010 [==============================] - 0s 36us/step - loss: 0.0081 - accuracy: 0.9994\n",
      "Epoch 111/120\n",
      "7010/7010 [==============================] - 0s 34us/step - loss: 0.0068 - accuracy: 0.9994\n",
      "Epoch 112/120\n",
      "7010/7010 [==============================] - 0s 35us/step - loss: 0.0064 - accuracy: 0.9994\n",
      "Epoch 113/120\n",
      "7010/7010 [==============================] - 0s 34us/step - loss: 0.0061 - accuracy: 0.9994\n",
      "Epoch 114/120\n",
      "7010/7010 [==============================] - 0s 34us/step - loss: 0.0058 - accuracy: 0.9994\n",
      "Epoch 115/120\n",
      "7010/7010 [==============================] - 0s 35us/step - loss: 0.0056 - accuracy: 0.9994\n",
      "Epoch 116/120\n",
      "7010/7010 [==============================] - 0s 34us/step - loss: 0.0054 - accuracy: 0.9994\n",
      "Epoch 117/120\n",
      "7010/7010 [==============================] - 0s 35us/step - loss: 0.0053 - accuracy: 0.9996\n",
      "Epoch 118/120\n",
      "7010/7010 [==============================] - 0s 35us/step - loss: 0.0052 - accuracy: 0.9994\n",
      "Epoch 119/120\n",
      "7010/7010 [==============================] - 0s 34us/step - loss: 0.0051 - accuracy: 0.9996\n",
      "Epoch 120/120\n",
      "7010/7010 [==============================] - 0s 35us/step - loss: 0.0050 - accuracy: 0.9994\n"
     ]
    },
    {
     "data": {
      "text/plain": [
       "<keras.callbacks.callbacks.History at 0x7f69bb113128>"
      ]
     },
     "execution_count": 15,
     "metadata": {},
     "output_type": "execute_result"
    }
   ],
   "source": [
    "model.fit(train_X, train_Y, epochs=120, batch_size=64,shuffle=True)"
   ]
  },
  {
   "cell_type": "code",
   "execution_count": 16,
   "metadata": {},
   "outputs": [
    {
     "name": "stdout",
     "output_type": "stream",
     "text": [
      "3005/3005 [==============================] - 0s 34us/step\n",
      "Accuracy: 48.65\n"
     ]
    }
   ],
   "source": [
    "_, accuracy = model.evaluate(val_X, val_Y)\n",
    "print('Accuracy: %.2f' % (accuracy*100))"
   ]
  },
  {
   "cell_type": "code",
   "execution_count": null,
   "metadata": {},
   "outputs": [],
   "source": []
  }
 ],
 "metadata": {
  "kernelspec": {
   "display_name": "Python 3",
   "language": "python",
   "name": "python3"
  },
  "language_info": {
   "codemirror_mode": {
    "name": "ipython",
    "version": 3
   },
   "file_extension": ".py",
   "mimetype": "text/x-python",
   "name": "python",
   "nbconvert_exporter": "python",
   "pygments_lexer": "ipython3",
   "version": "3.7.3"
  }
 },
 "nbformat": 4,
 "nbformat_minor": 2
}
