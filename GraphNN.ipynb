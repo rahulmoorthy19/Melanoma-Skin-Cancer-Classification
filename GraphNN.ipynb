{
 "cells": [
  {
   "cell_type": "code",
   "execution_count": null,
   "metadata": {},
   "outputs": [],
   "source": [
    "import pandas as pd\n",
    "from skimage.segmentation import slic,quickshift\n",
    "from skimage.segmentation import mark_boundaries\n",
    "from skimage.util import img_as_float\n",
    "from skimage import io\n",
    "import matplotlib.pyplot as plt\n",
    "from PIL import Image\n",
    "import numpy as np\n",
    "from skimage.future import graph\n",
    "import networkx\n",
    "import glob"
   ]
  },
  {
   "cell_type": "code",
   "execution_count": null,
   "metadata": {},
   "outputs": [],
   "source": [
    "X_orig=np.load(\"rag_features.npy\")"
   ]
  },
  {
   "cell_type": "code",
   "execution_count": null,
   "metadata": {},
   "outputs": [],
   "source": [
    "X_orig.shape"
   ]
  },
  {
   "cell_type": "code",
   "execution_count": null,
   "metadata": {},
   "outputs": [],
   "source": [
    "Y_df = pd.read_csv('/home/sirzechlucifer/Work/CVPR_graphs/ISIC2018_target/ISIC2018_Task3_Training_GroundTruth.csv')"
   ]
  },
  {
   "cell_type": "code",
   "execution_count": null,
   "metadata": {},
   "outputs": [],
   "source": [
    "Y_df.iloc[:,1:]"
   ]
  },
  {
   "cell_type": "code",
   "execution_count": null,
   "metadata": {},
   "outputs": [],
   "source": [
    "def get_Y_orig(labels_loc):\n",
    "    #output_list=list()\n",
    "    Y_df = pd.read_csv(labels_loc)\n",
    "    Y_df=Y_df.iloc[:,1:]\n",
    "#     for index,row in Y_df.iterrows():\n",
    "#         if row[\"MEL\"]==1:\n",
    "#             output_list.append(0)\n",
    "#         elif row[\"NV\"]==1:\n",
    "#             output_list.append(1)\n",
    "#         elif row[\"BCC\"]==1:\n",
    "#             output_list.append(2)\n",
    "#         elif row[\"AKIEC\"]==1:\n",
    "#             output_list.append(3)\n",
    "#         elif row[\"BKL\"]==1:\n",
    "#             output_list.append(4)\n",
    "#         elif row[\"DF\"]==1:\n",
    "#             output_list.append(5)\n",
    "#         elif row[\"VASC\"]==1:\n",
    "#             output_list.append(6)\n",
    "    return Y_df"
   ]
  },
  {
   "cell_type": "code",
   "execution_count": null,
   "metadata": {},
   "outputs": [],
   "source": [
    "labels_loc = '/home/sirzechlucifer/Work/CVPR_graphs/ISIC2018_target/ISIC2018_Task3_Training_GroundTruth.csv'\n",
    "\n",
    "Y_orig = get_Y_orig(labels_loc)"
   ]
  },
  {
   "cell_type": "code",
   "execution_count": null,
   "metadata": {},
   "outputs": [],
   "source": [
    "print(Y_orig.shape)\n",
    "print(X_orig.shape)"
   ]
  },
  {
   "cell_type": "code",
   "execution_count": null,
   "metadata": {},
   "outputs": [],
   "source": [
    "from keras.models import Sequential\n",
    "from keras.layers import Dense"
   ]
  },
  {
   "cell_type": "code",
   "execution_count": null,
   "metadata": {},
   "outputs": [],
   "source": [
    "model = Sequential()\n",
    "model.add(Dense(12, input_dim=12100, activation='relu'))\n",
    "model.add(Dense(8, activation='relu'))\n",
    "model.add(Dense(7, activation='softmax'))"
   ]
  },
  {
   "cell_type": "code",
   "execution_count": null,
   "metadata": {},
   "outputs": [],
   "source": [
    "model.compile(loss='categorical_crossentropy', optimizer='adam', metrics=['accuracy'])"
   ]
  },
  {
   "cell_type": "code",
   "execution_count": null,
   "metadata": {},
   "outputs": [],
   "source": [
    "from sklearn.model_selection import train_test_split\n",
    "train_X,val_X,train_Y,val_Y= train_test_split(X_orig, Y_orig, test_size=0.3, shuffle= True)"
   ]
  },
  {
   "cell_type": "code",
   "execution_count": null,
   "metadata": {},
   "outputs": [],
   "source": [
    "model.fit(train_X, train_Y, epochs=100, batch_size=64,shuffle=True)"
   ]
  },
  {
   "cell_type": "code",
   "execution_count": null,
   "metadata": {},
   "outputs": [],
   "source": [
    "_, accuracy = model.evaluate(val_X, val_Y)\n",
    "print('Accuracy: %.2f' % (accuracy*100))"
   ]
  },
  {
   "cell_type": "code",
   "execution_count": null,
   "metadata": {},
   "outputs": [],
   "source": [
    "val_Y.groupby(\"NV\").count()"
   ]
  },
  {
   "cell_type": "code",
   "execution_count": null,
   "metadata": {},
   "outputs": [],
   "source": [
    "predictions=model.predict_classes(val_X)"
   ]
  },
  {
   "cell_type": "code",
   "execution_count": null,
   "metadata": {},
   "outputs": [],
   "source": [
    "predictions=predictions.tolist()"
   ]
  },
  {
   "cell_type": "code",
   "execution_count": null,
   "metadata": {},
   "outputs": [],
   "source": [
    "output_list=list()\n",
    "for index,row in val_Y.iterrows():\n",
    "    if row[\"MEL\"]==1:\n",
    "        output_list.append(0)\n",
    "    elif row[\"NV\"]==1:\n",
    "        output_list.append(1)\n",
    "    elif row[\"BCC\"]==1:\n",
    "        output_list.append(2)\n",
    "    elif row[\"AKIEC\"]==1:\n",
    "        output_list.append(3)\n",
    "    elif row[\"BKL\"]==1:\n",
    "        output_list.append(4)\n",
    "    elif row[\"DF\"]==1:\n",
    "        output_list.append(5)\n",
    "    elif row[\"VASC\"]==1:\n",
    "        output_list.append(6)"
   ]
  },
  {
   "cell_type": "code",
   "execution_count": null,
   "metadata": {},
   "outputs": [],
   "source": [
    "from sklearn.metrics import classification_report"
   ]
  },
  {
   "cell_type": "code",
   "execution_count": null,
   "metadata": {},
   "outputs": [],
   "source": [
    "classification_report(output_list,predictions,output_dict=True)"
   ]
  },
  {
   "cell_type": "code",
   "execution_count": null,
   "metadata": {},
   "outputs": [],
   "source": []
  }
 ],
 "metadata": {
  "kernelspec": {
   "display_name": "Python 3",
   "language": "python",
   "name": "python3"
  },
  "language_info": {
   "codemirror_mode": {
    "name": "ipython",
    "version": 3
   },
   "file_extension": ".py",
   "mimetype": "text/x-python",
   "name": "python",
   "nbconvert_exporter": "python",
   "pygments_lexer": "ipython3",
   "version": "3.7.3"
  }
 },
 "nbformat": 4,
 "nbformat_minor": 2
}
