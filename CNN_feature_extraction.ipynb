{
 "cells": [
  {
   "cell_type": "code",
   "execution_count": 0,
   "metadata": {
    "colab": {
     "base_uri": "https://localhost:8080/",
     "height": 124
    },
    "colab_type": "code",
    "id": "TPiyowXQ7cUD",
    "outputId": "b0f6e0a5-84d9-46c5-c322-07935bb78bdc"
   },
   "outputs": [
    {
     "name": "stdout",
     "output_type": "stream",
     "text": [
      "Go to this URL in a browser: https://accounts.google.com/o/oauth2/auth?client_id=947318989803-6bn6qk8qdgf4n4g3pfee6491hc0brc4i.apps.googleusercontent.com&redirect_uri=urn%3aietf%3awg%3aoauth%3a2.0%3aoob&response_type=code&scope=email%20https%3a%2f%2fwww.googleapis.com%2fauth%2fdocs.test%20https%3a%2f%2fwww.googleapis.com%2fauth%2fdrive%20https%3a%2f%2fwww.googleapis.com%2fauth%2fdrive.photos.readonly%20https%3a%2f%2fwww.googleapis.com%2fauth%2fpeopleapi.readonly\n",
      "\n",
      "Enter your authorization code:\n",
      "··········\n",
      "Mounted at /content/drive\n"
     ]
    }
   ],
   "source": [
    "\n",
    "from google.colab import drive\n",
    "drive.mount('/content/drive')"
   ]
  },
  {
   "cell_type": "code",
   "execution_count": 0,
   "metadata": {
    "colab": {},
    "colab_type": "code",
    "id": "UDZZxVfH7eQZ"
   },
   "outputs": [],
   "source": [
    "import glob\n",
    "from skimage import color\n",
    "from skimage import io\n",
    "from skimage import transform\n",
    "import skimage\n",
    "import numpy as np\n",
    "from skimage.util import img_as_float\n",
    "import pandas as pd"
   ]
  },
  {
   "cell_type": "code",
   "execution_count": 0,
   "metadata": {
    "colab": {},
    "colab_type": "code",
    "id": "K3CwS3vO7ShB"
   },
   "outputs": [],
   "source": [
    "def get_filelist(img_loc):\n",
    "    filelist = glob.glob(img_loc+'*.jpg')\n",
    "    filelist.sort()\n",
    "    return filelist"
   ]
  },
  {
   "cell_type": "code",
   "execution_count": 0,
   "metadata": {
    "colab": {},
    "colab_type": "code",
    "id": "2UbCmpaE7ShK"
   },
   "outputs": [],
   "source": [
    "filelist=get_filelist(\"/content/drive/My Drive/ISIC2018_input/\")"
   ]
  },
  {
   "cell_type": "code",
   "execution_count": 0,
   "metadata": {
    "colab": {},
    "colab_type": "code",
    "id": "Fj1EQteJ7ShQ"
   },
   "outputs": [],
   "source": [
    "def preprocessing(filelist):\n",
    "    input_shape = [10015, 32, 32]\n",
    "    X_orig = np.empty(input_shape)\n",
    "    j=0\n",
    "    for i in filelist:\n",
    "        img = color.rgb2gray(io.imread(i))\n",
    "        image = img_as_float(img)\n",
    "        image=transform.resize(image, (32,32), mode='constant')\n",
    "        X_orig[j]=image\n",
    "        j=j+1\n",
    "    return X_orig"
   ]
  },
  {
   "cell_type": "code",
   "execution_count": 0,
   "metadata": {
    "colab": {},
    "colab_type": "code",
    "id": "okqZxVVB7ShX"
   },
   "outputs": [],
   "source": [
    "#X_orig=preprocessing(filelist)\n",
    "X_orig=np.load(\"/content/drive/My Drive/image_array.npy\")"
   ]
  },
  {
   "cell_type": "code",
   "execution_count": 0,
   "metadata": {
    "colab": {
     "base_uri": "https://localhost:8080/",
     "height": 34
    },
    "colab_type": "code",
    "id": "WYNRQSOV7Shf",
    "outputId": "1c94a1d6-0d15-4a0f-eab7-6ad952b99b72"
   },
   "outputs": [
    {
     "data": {
      "text/plain": [
       "(10015, 32, 32, 1)"
      ]
     },
     "execution_count": 8,
     "metadata": {
      "tags": []
     },
     "output_type": "execute_result"
    }
   ],
   "source": [
    "X_orig.shape"
   ]
  },
  {
   "cell_type": "code",
   "execution_count": 0,
   "metadata": {
    "colab": {},
    "colab_type": "code",
    "id": "Mxfcgf-l7Shl"
   },
   "outputs": [],
   "source": [
    "def get_Y_orig(labels_loc):\n",
    "    #output_list=list()\n",
    "    Y_df = pd.read_csv(labels_loc)\n",
    "    Y_df=Y_df.iloc[:,1:]\n",
    "#     for index,row in Y_df.iterrows():\n",
    "#         if row[\"MEL\"]==1:\n",
    "#             output_list.append(0)\n",
    "#         elif row[\"NV\"]==1:\n",
    "#             output_list.append(1)\n",
    "#         elif row[\"BCC\"]==1:\n",
    "#             output_list.append(2)\n",
    "#         elif row[\"AKIEC\"]==1:\n",
    "#             output_list.append(3)\n",
    "#         elif row[\"BKL\"]==1:\n",
    "#             output_list.append(4)\n",
    "#         elif row[\"DF\"]==1:\n",
    "#             output_list.append(5)\n",
    "#         elif row[\"VASC\"]==1:\n",
    "#             output_list.append(6)\n",
    "    return Y_df"
   ]
  },
  {
   "cell_type": "code",
   "execution_count": 0,
   "metadata": {
    "colab": {},
    "colab_type": "code",
    "id": "2gVIMljc7Shp"
   },
   "outputs": [],
   "source": [
    "labels_loc = '/content/drive/My Drive/ISIC2018_target/ISIC2018_Task3_Training_GroundTruth.csv'\n",
    "\n",
    "Y_orig = get_Y_orig(labels_loc)"
   ]
  },
  {
   "cell_type": "code",
   "execution_count": 0,
   "metadata": {
    "colab": {
     "base_uri": "https://localhost:8080/",
     "height": 64
    },
    "colab_type": "code",
    "id": "z5jlAbHL7Shv",
    "outputId": "d0ee6e25-7bd4-4834-85b8-571e34c09611"
   },
   "outputs": [
    {
     "data": {
      "text/html": [
       "<p style=\"color: red;\">\n",
       "The default version of TensorFlow in Colab will soon switch to TensorFlow 2.x.<br>\n",
       "We recommend you <a href=\"https://www.tensorflow.org/guide/migrate\" target=\"_blank\">upgrade</a> now \n",
       "or ensure your notebook will continue to use TensorFlow 1.x via the <code>%tensorflow_version 1.x</code> magic:\n",
       "<a href=\"https://colab.research.google.com/notebooks/tensorflow_version.ipynb\" target=\"_blank\">more info</a>.</p>\n"
      ],
      "text/plain": [
       "<IPython.core.display.HTML object>"
      ]
     },
     "metadata": {
      "tags": []
     },
     "output_type": "display_data"
    }
   ],
   "source": [
    "from tensorflow.keras.models import Sequential\n",
    "from tensorflow.keras.layers import Dense, Conv2D, Flatten"
   ]
  },
  {
   "cell_type": "code",
   "execution_count": 0,
   "metadata": {
    "colab": {
     "base_uri": "https://localhost:8080/",
     "height": 89
    },
    "colab_type": "code",
    "id": "G9FZyLOG7Sh0",
    "outputId": "3627f08a-1c15-4d43-a40d-c20c150ac12a"
   },
   "outputs": [
    {
     "name": "stdout",
     "output_type": "stream",
     "text": [
      "WARNING:tensorflow:From /usr/local/lib/python3.6/dist-packages/tensorflow_core/python/ops/resource_variable_ops.py:1630: calling BaseResourceVariable.__init__ (from tensorflow.python.ops.resource_variable_ops) with constraint is deprecated and will be removed in a future version.\n",
      "Instructions for updating:\n",
      "If using Keras pass *_constraint arguments to layers.\n"
     ]
    }
   ],
   "source": [
    "model = Sequential()\n",
    "model.add(Conv2D(32, kernel_size=3, activation='relu', input_shape=(32,32,1),name=\"CNN_layer_1\"))\n",
    "model.add(Conv2D(16, kernel_size=3, activation='relu',name=\"CNN_layer_2\"))\n",
    "model.add(Conv2D(8, kernel_size=3, activation='relu',name=\"CNN_layer_3\"))\n",
    "model.add(Flatten(name=\"CNN_features\"))\n",
    "model.add(Dense(32,name=\"Dense_1\"))\n",
    "model.add(Dense(7, activation='softmax'))"
   ]
  },
  {
   "cell_type": "code",
   "execution_count": 0,
   "metadata": {
    "colab": {
     "base_uri": "https://localhost:8080/",
     "height": 364
    },
    "colab_type": "code",
    "id": "YN-IkcA_yJ9x",
    "outputId": "1063843f-cec6-40cf-81b8-f85722612cae"
   },
   "outputs": [
    {
     "name": "stdout",
     "output_type": "stream",
     "text": [
      "Model: \"sequential\"\n",
      "_________________________________________________________________\n",
      "Layer (type)                 Output Shape              Param #   \n",
      "=================================================================\n",
      "CNN_layer_1 (Conv2D)         (None, 30, 30, 32)        320       \n",
      "_________________________________________________________________\n",
      "CNN_layer_2 (Conv2D)         (None, 28, 28, 16)        4624      \n",
      "_________________________________________________________________\n",
      "CNN_layer_3 (Conv2D)         (None, 26, 26, 8)         1160      \n",
      "_________________________________________________________________\n",
      "CNN_features (Flatten)       (None, 5408)              0         \n",
      "_________________________________________________________________\n",
      "Dense_1 (Dense)              (None, 32)                173088    \n",
      "_________________________________________________________________\n",
      "dense (Dense)                (None, 7)                 231       \n",
      "=================================================================\n",
      "Total params: 179,423\n",
      "Trainable params: 179,423\n",
      "Non-trainable params: 0\n",
      "_________________________________________________________________\n"
     ]
    }
   ],
   "source": [
    "model.summary()"
   ]
  },
  {
   "cell_type": "code",
   "execution_count": 0,
   "metadata": {
    "colab": {},
    "colab_type": "code",
    "id": "s4qUOdVw7Sh6"
   },
   "outputs": [],
   "source": [
    "model.compile(optimizer='adam', loss='categorical_crossentropy', metrics=['accuracy'])"
   ]
  },
  {
   "cell_type": "code",
   "execution_count": 0,
   "metadata": {
    "colab": {},
    "colab_type": "code",
    "id": "7zIaIcml7SiA"
   },
   "outputs": [],
   "source": [
    "X_orig=X_orig.reshape((10015,32,32,1))"
   ]
  },
  {
   "cell_type": "code",
   "execution_count": 0,
   "metadata": {
    "colab": {},
    "colab_type": "code",
    "id": "eFumBB0GTBIo"
   },
   "outputs": [],
   "source": [
    "np.save(\"/content/drive/My Drive/image_array.npy\",X_orig)"
   ]
  },
  {
   "cell_type": "code",
   "execution_count": 0,
   "metadata": {
    "colab": {
     "base_uri": "https://localhost:8080/",
     "height": 1000
    },
    "colab_type": "code",
    "id": "YiyYIZVS7SiE",
    "outputId": "39f701ee-4d5f-454b-938b-131ff507c2a7"
   },
   "outputs": [
    {
     "name": "stdout",
     "output_type": "stream",
     "text": [
      "Train on 10015 samples\n",
      "Epoch 1/50\n",
      "10015/10015 [==============================] - 11s 1ms/sample - loss: 1.0852 - acc: 0.6673\n",
      "Epoch 2/50\n",
      "10015/10015 [==============================] - 11s 1ms/sample - loss: 1.0070 - acc: 0.6721\n",
      "Epoch 3/50\n",
      "10015/10015 [==============================] - 11s 1ms/sample - loss: 0.9558 - acc: 0.6829\n",
      "Epoch 4/50\n",
      "10015/10015 [==============================] - 11s 1ms/sample - loss: 0.9234 - acc: 0.6912\n",
      "Epoch 5/50\n",
      "10015/10015 [==============================] - 11s 1ms/sample - loss: 0.8959 - acc: 0.7011\n",
      "Epoch 6/50\n",
      "10015/10015 [==============================] - 11s 1ms/sample - loss: 0.8638 - acc: 0.7070\n",
      "Epoch 7/50\n",
      "10015/10015 [==============================] - 11s 1ms/sample - loss: 0.8310 - acc: 0.7137\n",
      "Epoch 8/50\n",
      "10015/10015 [==============================] - 11s 1ms/sample - loss: 0.8216 - acc: 0.7183\n",
      "Epoch 9/50\n",
      "10015/10015 [==============================] - 11s 1ms/sample - loss: 0.8034 - acc: 0.7256\n",
      "Epoch 10/50\n",
      "10015/10015 [==============================] - 11s 1ms/sample - loss: 0.7886 - acc: 0.7261\n",
      "Epoch 11/50\n",
      "10015/10015 [==============================] - 11s 1ms/sample - loss: 0.7709 - acc: 0.7325\n",
      "Epoch 12/50\n",
      "10015/10015 [==============================] - 11s 1ms/sample - loss: 0.7440 - acc: 0.7435\n",
      "Epoch 13/50\n",
      "10015/10015 [==============================] - 11s 1ms/sample - loss: 0.7196 - acc: 0.7489\n",
      "Epoch 14/50\n",
      "10015/10015 [==============================] - 11s 1ms/sample - loss: 0.6914 - acc: 0.7593\n",
      "Epoch 15/50\n",
      "10015/10015 [==============================] - 11s 1ms/sample - loss: 0.6861 - acc: 0.7577\n",
      "Epoch 16/50\n",
      "10015/10015 [==============================] - 11s 1ms/sample - loss: 0.6462 - acc: 0.7766\n",
      "Epoch 17/50\n",
      "10015/10015 [==============================] - 11s 1ms/sample - loss: 0.6184 - acc: 0.7837\n",
      "Epoch 18/50\n",
      "10015/10015 [==============================] - 11s 1ms/sample - loss: 0.5956 - acc: 0.7954\n",
      "Epoch 19/50\n",
      "10015/10015 [==============================] - 11s 1ms/sample - loss: 0.5777 - acc: 0.8003\n",
      "Epoch 20/50\n",
      "10015/10015 [==============================] - 11s 1ms/sample - loss: 0.5542 - acc: 0.8102\n",
      "Epoch 21/50\n",
      "10015/10015 [==============================] - 11s 1ms/sample - loss: 0.5245 - acc: 0.8195\n",
      "Epoch 22/50\n",
      "10015/10015 [==============================] - 11s 1ms/sample - loss: 0.4940 - acc: 0.8270\n",
      "Epoch 23/50\n",
      "10015/10015 [==============================] - 11s 1ms/sample - loss: 0.4723 - acc: 0.8353\n",
      "Epoch 24/50\n",
      "10015/10015 [==============================] - 11s 1ms/sample - loss: 0.4594 - acc: 0.8403\n",
      "Epoch 25/50\n",
      "10015/10015 [==============================] - 11s 1ms/sample - loss: 0.4401 - acc: 0.8457\n",
      "Epoch 26/50\n",
      "10015/10015 [==============================] - 11s 1ms/sample - loss: 0.4025 - acc: 0.8619\n",
      "Epoch 27/50\n",
      "10015/10015 [==============================] - 11s 1ms/sample - loss: 0.3873 - acc: 0.8668\n",
      "Epoch 28/50\n",
      "10015/10015 [==============================] - 11s 1ms/sample - loss: 0.3633 - acc: 0.8730\n",
      "Epoch 29/50\n",
      "10015/10015 [==============================] - 11s 1ms/sample - loss: 0.3389 - acc: 0.8808\n",
      "Epoch 30/50\n",
      "10015/10015 [==============================] - 11s 1ms/sample - loss: 0.3145 - acc: 0.8932\n",
      "Epoch 31/50\n",
      "10015/10015 [==============================] - 11s 1ms/sample - loss: 0.3004 - acc: 0.8923\n",
      "Epoch 32/50\n",
      "10015/10015 [==============================] - 11s 1ms/sample - loss: 0.3026 - acc: 0.8922\n",
      "Epoch 33/50\n",
      "10015/10015 [==============================] - 11s 1ms/sample - loss: 0.2800 - acc: 0.9026\n",
      "Epoch 34/50\n",
      "10015/10015 [==============================] - 11s 1ms/sample - loss: 0.2647 - acc: 0.9070\n",
      "Epoch 35/50\n",
      "10015/10015 [==============================] - 11s 1ms/sample - loss: 0.2453 - acc: 0.9140\n",
      "Epoch 36/50\n",
      "10015/10015 [==============================] - 11s 1ms/sample - loss: 0.2387 - acc: 0.9148\n",
      "Epoch 37/50\n",
      "10015/10015 [==============================] - 11s 1ms/sample - loss: 0.2252 - acc: 0.9229\n",
      "Epoch 38/50\n",
      "10015/10015 [==============================] - 11s 1ms/sample - loss: 0.2152 - acc: 0.9257\n",
      "Epoch 39/50\n",
      "10015/10015 [==============================] - 11s 1ms/sample - loss: 0.2112 - acc: 0.9266\n",
      "Epoch 40/50\n",
      "10015/10015 [==============================] - 11s 1ms/sample - loss: 0.1973 - acc: 0.9309\n",
      "Epoch 41/50\n",
      "10015/10015 [==============================] - 11s 1ms/sample - loss: 0.1775 - acc: 0.9382\n",
      "Epoch 42/50\n",
      "10015/10015 [==============================] - 11s 1ms/sample - loss: 0.1743 - acc: 0.9403\n",
      "Epoch 43/50\n",
      "10015/10015 [==============================] - 11s 1ms/sample - loss: 0.1726 - acc: 0.9395\n",
      "Epoch 44/50\n",
      "10015/10015 [==============================] - 11s 1ms/sample - loss: 0.1767 - acc: 0.9372\n",
      "Epoch 45/50\n",
      "10015/10015 [==============================] - 11s 1ms/sample - loss: 0.1642 - acc: 0.9411\n",
      "Epoch 46/50\n",
      "10015/10015 [==============================] - 11s 1ms/sample - loss: 0.1464 - acc: 0.9502\n",
      "Epoch 47/50\n",
      "10015/10015 [==============================] - 11s 1ms/sample - loss: 0.1432 - acc: 0.9510\n",
      "Epoch 48/50\n",
      "10015/10015 [==============================] - 11s 1ms/sample - loss: 0.1430 - acc: 0.9488\n",
      "Epoch 49/50\n",
      "10015/10015 [==============================] - 11s 1ms/sample - loss: 0.1478 - acc: 0.9466\n",
      "Epoch 50/50\n",
      "10015/10015 [==============================] - 11s 1ms/sample - loss: 0.1535 - acc: 0.9437\n"
     ]
    },
    {
     "data": {
      "text/plain": [
       "<tensorflow.python.keras.callbacks.History at 0x7f8de1a4eb00>"
      ]
     },
     "execution_count": 17,
     "metadata": {
      "tags": []
     },
     "output_type": "execute_result"
    }
   ],
   "source": [
    "model.fit(X_orig, Y_orig, epochs=50,batch_size=64)"
   ]
  },
  {
   "cell_type": "code",
   "execution_count": 0,
   "metadata": {
    "colab": {
     "base_uri": "https://localhost:8080/",
     "height": 121
    },
    "colab_type": "code",
    "id": "qhpZMypvDKDX",
    "outputId": "8b9d3430-9687-40b0-a7a6-c0ec2d1eeed0"
   },
   "outputs": [
    {
     "name": "stdout",
     "output_type": "stream",
     "text": [
      "CNN_layer_1\n",
      "CNN_layer_2\n",
      "CNN_layer_3\n",
      "CNN_features\n",
      "Dense_1\n",
      "dense\n"
     ]
    }
   ],
   "source": [
    "for layer in model.layers[:12]:\n",
    "  print(layer.name)"
   ]
  },
  {
   "cell_type": "code",
   "execution_count": 0,
   "metadata": {
    "colab": {},
    "colab_type": "code",
    "id": "Er9K30Qe9W37"
   },
   "outputs": [],
   "source": [
    "from tensorflow.keras.models import Model\n"
   ]
  },
  {
   "cell_type": "code",
   "execution_count": 0,
   "metadata": {
    "colab": {},
    "colab_type": "code",
    "id": "2teIMU_V8iK7"
   },
   "outputs": [],
   "source": [
    "layer_outputs = [layer.output for layer in model.layers[:12]] \n",
    "# Extracts the outputs of the top 12 layers\n",
    "activation_model = Model(inputs=model.input, outputs=layer_outputs) # Creates a model that will return these outputs, given the model input"
   ]
  },
  {
   "cell_type": "code",
   "execution_count": 0,
   "metadata": {
    "colab": {
     "base_uri": "https://localhost:8080/",
     "height": 34
    },
    "colab_type": "code",
    "id": "q1wI-dSZI6d5",
    "outputId": "cce806d9-bdd8-4093-f3ad-37418d9fd8ab"
   },
   "outputs": [
    {
     "name": "stdout",
     "output_type": "stream",
     "text": [
      "Predicted class is: [1 1 1 1 0 1 4 1 1 0 1 1 5 1 1 1 1 0 1 1]\n"
     ]
    }
   ],
   "source": [
    "classes = model.predict_classes(X_orig[0:20], batch_size=10)\n",
    "print(\"Predicted class is:\",classes)"
   ]
  },
  {
   "cell_type": "code",
   "execution_count": 0,
   "metadata": {
    "colab": {},
    "colab_type": "code",
    "id": "uidDawRK9Yn6"
   },
   "outputs": [],
   "source": [
    "activations = activation_model.predict(X_orig[4:5,:,:,:]) "
   ]
  },
  {
   "cell_type": "code",
   "execution_count": 0,
   "metadata": {
    "colab": {
     "base_uri": "https://localhost:8080/",
     "height": 34
    },
    "colab_type": "code",
    "id": "rryfUtSLG90T",
    "outputId": "bff9a96a-91d7-4561-c87b-0d5efd528dc5"
   },
   "outputs": [
    {
     "data": {
      "text/plain": [
       "5"
      ]
     },
     "execution_count": 87,
     "metadata": {
      "tags": []
     },
     "output_type": "execute_result"
    }
   ],
   "source": [
    "len(activations)"
   ]
  },
  {
   "cell_type": "code",
   "execution_count": 0,
   "metadata": {
    "colab": {
     "base_uri": "https://localhost:8080/",
     "height": 34
    },
    "colab_type": "code",
    "id": "q-LUoWfY9jVD",
    "outputId": "83ac405a-aaa7-44c2-eef6-778cb8f72321"
   },
   "outputs": [
    {
     "name": "stdout",
     "output_type": "stream",
     "text": [
      "(1, 30, 30, 32)\n"
     ]
    }
   ],
   "source": [
    "first_layer_activation = activations[0]\n",
    "print(first_layer_activation.shape)"
   ]
  },
  {
   "cell_type": "code",
   "execution_count": 0,
   "metadata": {
    "colab": {},
    "colab_type": "code",
    "id": "dqRBnXyz9rU7"
   },
   "outputs": [],
   "source": [
    "import matplotlib.pyplot as plt"
   ]
  },
  {
   "cell_type": "code",
   "execution_count": 0,
   "metadata": {
    "colab": {
     "base_uri": "https://localhost:8080/",
     "height": 292
    },
    "colab_type": "code",
    "id": "hKPzjM6s9n1y",
    "outputId": "c9723c5a-0c47-464d-9b0b-2feef455fdc1"
   },
   "outputs": [
    {
     "data": {
      "text/plain": [
       "<matplotlib.image.AxesImage at 0x7f2e4dfacb00>"
      ]
     },
     "execution_count": 91,
     "metadata": {
      "tags": []
     },
     "output_type": "execute_result"
    },
    {
     "data": {
      "image/png": "[encoded data removed]",
      "text/plain": [
       "<Figure size 288x288 with 1 Axes>"
      ]
     },
     "metadata": {
      "tags": []
     },
     "output_type": "display_data"
    }
   ],
   "source": [
    "plt.matshow(first_layer_activation[0, :, :, 1], cmap='viridis')"
   ]
  },
  {
   "cell_type": "code",
   "execution_count": 0,
   "metadata": {
    "colab": {},
    "colab_type": "code",
    "id": "Ff0PpkdH7SiJ"
   },
   "outputs": [],
   "source": [
    "from tensorflow.keras.models import Model\n",
    "intermediate_layer_model = Model(inputs=model.input,outputs=model.get_layer('Dense_1').output)"
   ]
  },
  {
   "cell_type": "code",
   "execution_count": 0,
   "metadata": {
    "colab": {
     "base_uri": "https://localhost:8080/",
     "height": 364
    },
    "colab_type": "code",
    "id": "SLuHVkWxHvmB",
    "outputId": "08c2cc34-bbe5-4259-998d-0f22154e0597"
   },
   "outputs": [
    {
     "name": "stdout",
     "output_type": "stream",
     "text": [
      "Model: \"model\"\n",
      "_________________________________________________________________\n",
      "Layer (type)                 Output Shape              Param #   \n",
      "=================================================================\n",
      "CNN_layer_1_input (InputLaye [(None, 32, 32, 1)]       0         \n",
      "_________________________________________________________________\n",
      "CNN_layer_1 (Conv2D)         (None, 30, 30, 32)        320       \n",
      "_________________________________________________________________\n",
      "CNN_layer_2 (Conv2D)         (None, 28, 28, 16)        4624      \n",
      "_________________________________________________________________\n",
      "CNN_layer_3 (Conv2D)         (None, 26, 26, 8)         1160      \n",
      "_________________________________________________________________\n",
      "CNN_features (Flatten)       (None, 5408)              0         \n",
      "_________________________________________________________________\n",
      "Dense_1 (Dense)              (None, 32)                173088    \n",
      "=================================================================\n",
      "Total params: 179,192\n",
      "Trainable params: 179,192\n",
      "Non-trainable params: 0\n",
      "_________________________________________________________________\n"
     ]
    }
   ],
   "source": [
    "intermediate_layer_model.summary()"
   ]
  },
  {
   "cell_type": "code",
   "execution_count": 0,
   "metadata": {
    "colab": {},
    "colab_type": "code",
    "id": "JbpJ-h4EHzQs"
   },
   "outputs": [],
   "source": [
    "feauture_engg_data = intermediate_layer_model.predict(X_orig)"
   ]
  },
  {
   "cell_type": "code",
   "execution_count": 0,
   "metadata": {
    "colab": {},
    "colab_type": "code",
    "id": "VgVH1rboJbT5"
   },
   "outputs": [],
   "source": [
    "feauture_engg_data=feauture_engg_data.reshape((10015,32))"
   ]
  },
  {
   "cell_type": "code",
   "execution_count": 0,
   "metadata": {
    "colab": {},
    "colab_type": "code",
    "id": "ABHtooA6H2Xf"
   },
   "outputs": [],
   "source": [
    "feature_engg_data = pd.DataFrame(feauture_engg_data)"
   ]
  },
  {
   "cell_type": "code",
   "execution_count": 0,
   "metadata": {
    "colab": {
     "base_uri": "https://localhost:8080/",
     "height": 34
    },
    "colab_type": "code",
    "id": "xLq7xz9aH9Z5",
    "outputId": "a31897fc-e875-43b7-8369-4d1034f15014"
   },
   "outputs": [
    {
     "name": "stdout",
     "output_type": "stream",
     "text": [
      "feature_engg_data shape: (10015, 32)\n"
     ]
    }
   ],
   "source": [
    "print('feature_engg_data shape:', feauture_engg_data.shape)"
   ]
  },
  {
   "cell_type": "code",
   "execution_count": 0,
   "metadata": {
    "colab": {},
    "colab_type": "code",
    "id": "sleOVz92H_sE"
   },
   "outputs": [],
   "source": [
    "feature_engg_data.to_csv(\"/content/drive/My Drive/cnn_features_large.csv\")"
   ]
  },
  {
   "cell_type": "code",
   "execution_count": 0,
   "metadata": {
    "colab": {},
    "colab_type": "code",
    "id": "hEJo7Hp3INhb"
   },
   "outputs": [],
   "source": []
  }
 ],
 "metadata": {
  "colab": {
   "collapsed_sections": [],
   "machine_shape": "hm",
   "name": "CNN_feature_extraction.ipynb",
   "provenance": []
  },
  "kernelspec": {
   "display_name": "Python 3",
   "language": "python",
   "name": "python3"
  },
  "language_info": {
   "codemirror_mode": {
    "name": "ipython",
    "version": 3
   },
   "file_extension": ".py",
   "mimetype": "text/x-python",
   "name": "python",
   "nbconvert_exporter": "python",
   "pygments_lexer": "ipython3",
   "version": "3.7.4"
  }
 },
 "nbformat": 4,
 "nbformat_minor": 1
}
