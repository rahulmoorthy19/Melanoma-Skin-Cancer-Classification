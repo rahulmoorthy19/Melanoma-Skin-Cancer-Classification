{
 "cells": [
  {
   "cell_type": "code",
   "execution_count": 1,
   "metadata": {},
   "outputs": [],
   "source": [
    "import glob\n",
    "from skimage import color\n",
    "from skimage import io\n",
    "import skimage\n",
    "import numpy as np\n",
    "from skimage.util import img_as_float\n",
    "import pandas as pd"
   ]
  },
  {
   "cell_type": "code",
   "execution_count": 2,
   "metadata": {},
   "outputs": [],
   "source": [
    "def get_filelist(img_loc):\n",
    "    filelist = glob.glob(img_loc+'*.jpg')\n",
    "    filelist.sort()\n",
    "    return filelist"
   ]
  },
  {
   "cell_type": "code",
   "execution_count": 3,
   "metadata": {},
   "outputs": [],
   "source": [
    "filelist=get_filelist(\"/home/sirzechlucifer/Work/CVPR_graphs/ISIC2018_input/\")"
   ]
  },
  {
   "cell_type": "code",
   "execution_count": 4,
   "metadata": {},
   "outputs": [],
   "source": [
    "def preprocessing(filelist):\n",
    "    input_shape = [10015, 224, 224]\n",
    "    X_orig = np.empty(input_shape)\n",
    "    j=0\n",
    "    for i in filelist:\n",
    "        img = color.rgb2gray(io.imread(i))\n",
    "        image = img_as_float(img)\n",
    "        image=skimage.transform.resize(image, (224,224), mode='constant')\n",
    "        X_orig[j]=image\n",
    "        j=j+1\n",
    "    return X_orig"
   ]
  },
  {
   "cell_type": "code",
   "execution_count": 5,
   "metadata": {},
   "outputs": [
    {
     "name": "stderr",
     "output_type": "stream",
     "text": [
      "/home/sirzechlucifer/anaconda3/lib/python3.7/site-packages/skimage/transform/_warps.py:110: UserWarning: Anti-aliasing will be enabled by default in skimage 0.15 to avoid aliasing artifacts when down-sampling images.\n",
      "  warn(\"Anti-aliasing will be enabled by default in skimage 0.15 to \"\n"
     ]
    }
   ],
   "source": [
    "X_orig=preprocessing(filelist)"
   ]
  },
  {
   "cell_type": "code",
   "execution_count": 6,
   "metadata": {},
   "outputs": [
    {
     "data": {
      "text/plain": [
       "(10015, 224, 224)"
      ]
     },
     "execution_count": 6,
     "metadata": {},
     "output_type": "execute_result"
    }
   ],
   "source": [
    "X_orig.shape"
   ]
  },
  {
   "cell_type": "code",
   "execution_count": 7,
   "metadata": {},
   "outputs": [],
   "source": [
    "def get_Y_orig(labels_loc):\n",
    "    #output_list=list()\n",
    "    Y_df = pd.read_csv(labels_loc)\n",
    "    Y_df=Y_df.iloc[:,1:]\n",
    "#     for index,row in Y_df.iterrows():\n",
    "#         if row[\"MEL\"]==1:\n",
    "#             output_list.append(0)\n",
    "#         elif row[\"NV\"]==1:\n",
    "#             output_list.append(1)\n",
    "#         elif row[\"BCC\"]==1:\n",
    "#             output_list.append(2)\n",
    "#         elif row[\"AKIEC\"]==1:\n",
    "#             output_list.append(3)\n",
    "#         elif row[\"BKL\"]==1:\n",
    "#             output_list.append(4)\n",
    "#         elif row[\"DF\"]==1:\n",
    "#             output_list.append(5)\n",
    "#         elif row[\"VASC\"]==1:\n",
    "#             output_list.append(6)\n",
    "    return Y_df"
   ]
  },
  {
   "cell_type": "code",
   "execution_count": 8,
   "metadata": {},
   "outputs": [],
   "source": [
    "labels_loc = '/home/sirzechlucifer/Work/CVPR_graphs/ISIC2018_target/ISIC2018_Task3_Training_GroundTruth.csv'\n",
    "\n",
    "Y_orig = get_Y_orig(labels_loc)"
   ]
  },
  {
   "cell_type": "code",
   "execution_count": 10,
   "metadata": {},
   "outputs": [],
   "source": [
    "from tensorflow.keras.models import Sequential\n",
    "from tensorflow.keras.layers import Dense, Conv2D, Flatten"
   ]
  },
  {
   "cell_type": "code",
   "execution_count": 12,
   "metadata": {},
   "outputs": [],
   "source": [
    "model = Sequential()\n",
    "model.add(Conv2D(128, kernel_size=3, activation='relu', input_shape=(224,224,1)))\n",
    "model.add(Conv2D(64, kernel_size=3, activation='relu'))\n",
    "model.add(Conv2D(32, kernel_size=3, activation='relu'))\n",
    "model.add(Flatten())\n",
    "model.add(Dense(7, activation='softmax'))"
   ]
  },
  {
   "cell_type": "code",
   "execution_count": 13,
   "metadata": {},
   "outputs": [],
   "source": [
    "model.compile(optimizer='adam', loss='categorical_crossentropy', metrics=['accuracy'])"
   ]
  },
  {
   "cell_type": "code",
   "execution_count": 15,
   "metadata": {},
   "outputs": [],
   "source": [
    "X_orig=X_orig.reshape((10015,224,224,1))"
   ]
  },
  {
   "cell_type": "code",
   "execution_count": null,
   "metadata": {},
   "outputs": [],
   "source": [
    "model.fit(X_orig, Y_orig, epochs=50)"
   ]
  },
  {
   "cell_type": "code",
   "execution_count": null,
   "metadata": {},
   "outputs": [],
   "source": []
  }
 ],
 "metadata": {
  "kernelspec": {
   "display_name": "Python 3",
   "language": "python",
   "name": "python3"
  },
  "language_info": {
   "codemirror_mode": {
    "name": "ipython",
    "version": 3
   },
   "file_extension": ".py",
   "mimetype": "text/x-python",
   "name": "python",
   "nbconvert_exporter": "python",
   "pygments_lexer": "ipython3",
   "version": "3.7.3"
  }
 },
 "nbformat": 4,
 "nbformat_minor": 2
}
