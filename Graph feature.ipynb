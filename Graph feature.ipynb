{
 "cells": [
  {
   "cell_type": "code",
   "execution_count": 1,
   "metadata": {},
   "outputs": [],
   "source": [
    "import pandas as pd\n",
    "from skimage.segmentation import slic,quickshift\n",
    "from skimage.segmentation import mark_boundaries\n",
    "from skimage.util import img_as_float\n",
    "from skimage import io\n",
    "import matplotlib.pyplot as plt\n",
    "from PIL import Image\n",
    "import numpy as np\n",
    "from skimage.future import graph\n",
    "import networkx\n",
    "import glob"
   ]
  },
  {
   "cell_type": "code",
   "execution_count": 2,
   "metadata": {},
   "outputs": [],
   "source": [
    "def get_filelist(img_loc):\n",
    "    filelist = glob.glob(img_loc+'*.jpg')\n",
    "    filelist.sort()\n",
    "    return filelist"
   ]
  },
  {
   "cell_type": "code",
   "execution_count": 3,
   "metadata": {},
   "outputs": [],
   "source": [
    "filelist=get_filelist(\"/home/sirzechlucifer/Work/CVPR_graphs/ISIC2018_input/\")"
   ]
  },
  {
   "cell_type": "code",
   "execution_count": null,
   "metadata": {},
   "outputs": [],
   "source": [
    "def preprocessing(filelist):\n",
    "    X_orig = np.empty([10015, 60, 60])\n",
    "    for i, fname in enumerate(filelist):\n",
    "        image = img_as_float(io.imread(fname))\n",
    "        segments = slic(image, n_segments = 50, sigma = 5)\n",
    "        rag = graph.rag_mean_color(image, segments)\n",
    "        graph_array=networkx.to_numpy_matrix(rag)\n",
    "        if graph_array.shape[0]==60:\n",
    "            X_orig[i] =graph_array\n",
    "        else:\n",
    "            result = np.zeros((60,60))\n",
    "            result[:graph_array.shape[0],:graph_array.shape[1]] = graph_array\n",
    "            X_orig[i]=result\n",
    "        if i%100==0:\n",
    "            print(str(i)+\" images done!!\")\n",
    "    return X_orig  "
   ]
  },
  {
   "cell_type": "code",
   "execution_count": 5,
   "metadata": {},
   "outputs": [],
   "source": [
    "image = img_as_float(io.imread('/home/sirzechlucifer/Work/CVPR_graphs/ISIC2018_input/ISIC_0024306.jpg'))\n",
    "segments = slic(image, n_segments = 50, sigma = 5)\n",
    "rag = graph.rag_mean_color(image, segments)"
   ]
  },
  {
   "cell_type": "code",
   "execution_count": 17,
   "metadata": {},
   "outputs": [],
   "source": [
    "A=networkx.adjacency_matrix(rag)"
   ]
  },
  {
   "cell_type": "code",
   "execution_count": 44,
   "metadata": {},
   "outputs": [
    {
     "data": {
      "text/plain": [
       "(1, 2304)"
      ]
     },
     "execution_count": 44,
     "metadata": {},
     "output_type": "execute_result"
    }
   ],
   "source": [
    "A.todense().flatten().shape"
   ]
  },
  {
   "cell_type": "code",
   "execution_count": 41,
   "metadata": {},
   "outputs": [
    {
     "name": "stdout",
     "output_type": "stream",
     "text": [
      "  (0, 1)\t0.06529762490916857\n",
      "  (0, 10)\t0.07617253102456578\n",
      "  (0, 48)\t0.06529762490916857\n",
      "  (0, 50)\t0.035133410773984644\n",
      "  (0, 58)\t0.024130072038641953\n",
      "  (0, 60)\t0.04372721829605053\n",
      "  (0, 97)\t0.035133410773984644\n",
      "  (0, 99)\t0.031856230298279754\n",
      "  (0, 107)\t0.15541712898150795\n",
      "  (0, 108)\t0.012860496733539648\n",
      "  (0, 146)\t0.031856230298279754\n",
      "  (0, 148)\t0.19531358436665935\n",
      "  (0, 155)\t0.12369233707983031\n",
      "  (0, 195)\t0.19531358436665935\n",
      "  (0, 197)\t0.20517334951111338\n",
      "  (0, 200)\t0.134960439255087\n",
      "  (0, 201)\t0.29870022862402035\n",
      "  (0, 203)\t0.07232668270195074\n",
      "  (0, 206)\t0.11350427262516202\n",
      "  (0, 244)\t0.20517334951111338\n",
      "  (0, 246)\t0.02976207294299153\n",
      "  (0, 254)\t0.31855824003861183\n",
      "  (0, 255)\t0.10020346068039823\n",
      "  (0, 293)\t0.02976207294299153\n",
      "  (0, 295)\t0.029600906175013254\n",
      "  :\t:\n",
      "  (0, 1963)\t0.05687238500781486\n",
      "  (0, 2001)\t0.2184951343902505\n",
      "  (0, 2007)\t0.2558564358624168\n",
      "  (0, 2008)\t0.037226893901142505\n",
      "  (0, 2010)\t0.024029874180054075\n",
      "  (0, 2049)\t0.24193674070116722\n",
      "  (0, 2051)\t0.039646538817929955\n",
      "  (0, 2057)\t0.024029874180054075\n",
      "  (0, 2062)\t0.005507841393217998\n",
      "  (0, 2098)\t0.06842274407187506\n",
      "  (0, 2102)\t0.04938252787838579\n",
      "  (0, 2104)\t0.05687238500781486\n",
      "  (0, 2111)\t0.026126865180079832\n",
      "  (0, 2148)\t0.04455655487622759\n",
      "  (0, 2157)\t0.07789070058665354\n",
      "  (0, 2196)\t0.04400123880607281\n",
      "  (0, 2197)\t0.02003256167812988\n",
      "  (0, 2204)\t0.07789070058665354\n",
      "  (0, 2206)\t0.005697037392308543\n",
      "  (0, 2243)\t0.03674838950718087\n",
      "  (0, 2245)\t0.015329372969645434\n",
      "  (0, 2250)\t0.005507841393217998\n",
      "  (0, 2253)\t0.005697037392308543\n",
      "  (0, 2294)\t0.06271658107711357\n",
      "  (0, 2299)\t0.026126865180079832\n"
     ]
    }
   ],
   "source": [
    "import numpy as np\n",
    "from scipy import sparse\n",
    "a=A.todense().flatten()\n",
    "b=sparse.csr_matrix(a)\n",
    "print(b)"
   ]
  },
  {
   "cell_type": "code",
   "execution_count": 42,
   "metadata": {},
   "outputs": [
    {
     "data": {
      "text/plain": [
       "scipy.sparse.csr.csr_matrix"
      ]
     },
     "execution_count": 42,
     "metadata": {},
     "output_type": "execute_result"
    }
   ],
   "source": [
    "type(b)"
   ]
  },
  {
   "cell_type": "code",
   "execution_count": 30,
   "metadata": {},
   "outputs": [
    {
     "data": {
      "text/plain": [
       "NodeView((0, 1, 2, 3, 4, 5, 6, 7, 8, 9, 10, 11, 12, 13, 14, 15, 16, 17, 18, 19, 20, 21, 22, 23, 24, 25, 26, 27, 28, 29, 30, 31, 32, 33, 34, 35, 36, 37, 38, 39, 40, 41, 42, 43, 44, 45, 46, 47))"
      ]
     },
     "execution_count": 30,
     "metadata": {},
     "output_type": "execute_result"
    }
   ],
   "source": [
    "rag.nodes"
   ]
  },
  {
   "cell_type": "code",
   "execution_count": 28,
   "metadata": {},
   "outputs": [
    {
     "data": {
      "text/plain": [
       "<dict_keyiterator at 0x7f8ef7cba458>"
      ]
     },
     "execution_count": 28,
     "metadata": {},
     "output_type": "execute_result"
    }
   ],
   "source": [
    "rag.neighbors(1)"
   ]
  },
  {
   "cell_type": "code",
   "execution_count": 32,
   "metadata": {},
   "outputs": [],
   "source": [
    "neighbor={}"
   ]
  },
  {
   "cell_type": "code",
   "execution_count": 35,
   "metadata": {},
   "outputs": [],
   "source": [
    "for i in rag.nodes:\n",
    "    neighbor[i]=[n for n in rag.neighbors(i)]"
   ]
  },
  {
   "cell_type": "code",
   "execution_count": 36,
   "metadata": {},
   "outputs": [
    {
     "data": {
      "text/plain": [
       "{0: [1, 10],\n",
       " 1: [0, 2, 12, 10],\n",
       " 2: [1, 3, 12, 11],\n",
       " 3: [2, 4, 11],\n",
       " 4: [3, 5, 8, 9, 11, 14],\n",
       " 5: [4, 6, 14, 15],\n",
       " 6: [5, 7, 15, 13],\n",
       " 7: [6, 13],\n",
       " 8: [4, 9, 11, 19],\n",
       " 9: [4, 8, 14, 17, 22, 19, 26],\n",
       " 10: [0, 1, 12, 18, 21],\n",
       " 11: [3, 4, 8, 2, 12, 16, 19, 25],\n",
       " 12: [1, 2, 10, 11, 16, 18],\n",
       " 13: [7, 6, 15, 23],\n",
       " 14: [4, 9, 5, 15, 17, 20],\n",
       " 15: [6, 5, 14, 13, 23, 20, 24],\n",
       " 16: [12, 11, 18, 25, 29],\n",
       " 17: [9, 14, 20, 22, 30, 32],\n",
       " 18: [10, 12, 16, 21, 28, 29],\n",
       " 19: [11, 8, 9, 25, 26, 33],\n",
       " 20: [14, 17, 15, 24, 30],\n",
       " 21: [10, 18, 28, 29],\n",
       " 22: [9, 17, 27, 26, 32],\n",
       " 23: [15, 13, 24, 31],\n",
       " 24: [20, 15, 23, 31, 30, 34, 39],\n",
       " 25: [11, 19, 16, 29, 33, 35],\n",
       " 26: [19, 9, 22, 32, 33, 39],\n",
       " 27: [22, 32],\n",
       " 28: [21, 18, 29, 36],\n",
       " 29: [21, 18, 28, 16, 25, 35, 36, 37],\n",
       " 30: [17, 20, 32, 24, 39],\n",
       " 31: [23, 24, 34, 38],\n",
       " 32: [22, 17, 26, 30, 27, 39],\n",
       " 33: [25, 19, 26, 35, 39, 41, 42],\n",
       " 34: [24, 31, 38, 39, 40, 43],\n",
       " 35: [25, 29, 37, 33, 42, 46],\n",
       " 36: [28, 29, 37, 44, 45],\n",
       " 37: [29, 36, 35, 45, 46],\n",
       " 38: [31, 34, 43, 47],\n",
       " 39: [30, 24, 34, 32, 26, 33, 40, 41],\n",
       " 40: [39, 34, 43, 41],\n",
       " 41: [33, 39, 42, 40],\n",
       " 42: [35, 33, 41, 46],\n",
       " 43: [34, 38, 40, 47],\n",
       " 44: [36, 45],\n",
       " 45: [36, 37, 46, 44],\n",
       " 46: [37, 35, 42, 45],\n",
       " 47: [38, 43]}"
      ]
     },
     "execution_count": 36,
     "metadata": {},
     "output_type": "execute_result"
    }
   ],
   "source": [
    "neighbor"
   ]
  },
  {
   "cell_type": "code",
   "execution_count": null,
   "metadata": {},
   "outputs": [],
   "source": []
  }
 ],
 "metadata": {
  "kernelspec": {
   "display_name": "Python 3",
   "language": "python",
   "name": "python3"
  },
  "language_info": {
   "codemirror_mode": {
    "name": "ipython",
    "version": 3
   },
   "file_extension": ".py",
   "mimetype": "text/x-python",
   "name": "python",
   "nbconvert_exporter": "python",
   "pygments_lexer": "ipython3",
   "version": "3.7.3"
  }
 },
 "nbformat": 4,
 "nbformat_minor": 2
}
