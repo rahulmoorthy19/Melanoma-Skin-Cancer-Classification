{
 "cells": [
  {
   "cell_type": "code",
   "execution_count": 1,
   "metadata": {},
   "outputs": [],
   "source": [
    "import pandas as pd\n",
    "from skimage.segmentation import slic,quickshift\n",
    "from skimage.segmentation import mark_boundaries\n",
    "from skimage.util import img_as_float\n",
    "from skimage import io\n",
    "import matplotlib.pyplot as plt\n",
    "from PIL import Image\n",
    "import numpy as np\n",
    "from skimage.future import graph\n",
    "import networkx\n",
    "import glob\n",
    "import cv2"
   ]
  },
  {
   "cell_type": "code",
   "execution_count": 2,
   "metadata": {},
   "outputs": [],
   "source": [
    "def get_filelist(img_loc):\n",
    "    filelist = glob.glob(img_loc+'*.jpg')\n",
    "    filelist.sort()\n",
    "    return filelist"
   ]
  },
  {
   "cell_type": "code",
   "execution_count": 3,
   "metadata": {},
   "outputs": [],
   "source": [
    "filelist=get_filelist(\"/home/sirzechlucifer/Work/CVPR_graphs/ISIC2018_input/\")"
   ]
  },
  {
   "cell_type": "code",
   "execution_count": 4,
   "metadata": {},
   "outputs": [],
   "source": [
    "labels = pd.read_csv('/home/sirzechlucifer/Work/CVPR_graphs/ISIC2018_target/ISIC2018_Task3_Training_GroundTruth.csv')"
   ]
  },
  {
   "cell_type": "code",
   "execution_count": 5,
   "metadata": {},
   "outputs": [
    {
     "data": {
      "text/plain": [
       "10015"
      ]
     },
     "execution_count": 5,
     "metadata": {},
     "output_type": "execute_result"
    }
   ],
   "source": [
    "len(filelist)"
   ]
  },
  {
   "cell_type": "code",
   "execution_count": 6,
   "metadata": {},
   "outputs": [
    {
     "data": {
      "text/html": [
       "<div>\n",
       "<style scoped>\n",
       "    .dataframe tbody tr th:only-of-type {\n",
       "        vertical-align: middle;\n",
       "    }\n",
       "\n",
       "    .dataframe tbody tr th {\n",
       "        vertical-align: top;\n",
       "    }\n",
       "\n",
       "    .dataframe thead th {\n",
       "        text-align: right;\n",
       "    }\n",
       "</style>\n",
       "<table border=\"1\" class=\"dataframe\">\n",
       "  <thead>\n",
       "    <tr style=\"text-align: right;\">\n",
       "      <th></th>\n",
       "      <th>image</th>\n",
       "      <th>MEL</th>\n",
       "      <th>NV</th>\n",
       "      <th>BCC</th>\n",
       "      <th>AKIEC</th>\n",
       "      <th>BKL</th>\n",
       "      <th>DF</th>\n",
       "      <th>VASC</th>\n",
       "    </tr>\n",
       "  </thead>\n",
       "  <tbody>\n",
       "    <tr>\n",
       "      <th>0</th>\n",
       "      <td>ISIC_0024306</td>\n",
       "      <td>0.0</td>\n",
       "      <td>1.0</td>\n",
       "      <td>0.0</td>\n",
       "      <td>0.0</td>\n",
       "      <td>0.0</td>\n",
       "      <td>0.0</td>\n",
       "      <td>0.0</td>\n",
       "    </tr>\n",
       "    <tr>\n",
       "      <th>1</th>\n",
       "      <td>ISIC_0024307</td>\n",
       "      <td>0.0</td>\n",
       "      <td>1.0</td>\n",
       "      <td>0.0</td>\n",
       "      <td>0.0</td>\n",
       "      <td>0.0</td>\n",
       "      <td>0.0</td>\n",
       "      <td>0.0</td>\n",
       "    </tr>\n",
       "    <tr>\n",
       "      <th>2</th>\n",
       "      <td>ISIC_0024308</td>\n",
       "      <td>0.0</td>\n",
       "      <td>1.0</td>\n",
       "      <td>0.0</td>\n",
       "      <td>0.0</td>\n",
       "      <td>0.0</td>\n",
       "      <td>0.0</td>\n",
       "      <td>0.0</td>\n",
       "    </tr>\n",
       "    <tr>\n",
       "      <th>3</th>\n",
       "      <td>ISIC_0024309</td>\n",
       "      <td>0.0</td>\n",
       "      <td>1.0</td>\n",
       "      <td>0.0</td>\n",
       "      <td>0.0</td>\n",
       "      <td>0.0</td>\n",
       "      <td>0.0</td>\n",
       "      <td>0.0</td>\n",
       "    </tr>\n",
       "    <tr>\n",
       "      <th>4</th>\n",
       "      <td>ISIC_0024310</td>\n",
       "      <td>1.0</td>\n",
       "      <td>0.0</td>\n",
       "      <td>0.0</td>\n",
       "      <td>0.0</td>\n",
       "      <td>0.0</td>\n",
       "      <td>0.0</td>\n",
       "      <td>0.0</td>\n",
       "    </tr>\n",
       "  </tbody>\n",
       "</table>\n",
       "</div>"
      ],
      "text/plain": [
       "          image  MEL   NV  BCC  AKIEC  BKL   DF  VASC\n",
       "0  ISIC_0024306  0.0  1.0  0.0    0.0  0.0  0.0   0.0\n",
       "1  ISIC_0024307  0.0  1.0  0.0    0.0  0.0  0.0   0.0\n",
       "2  ISIC_0024308  0.0  1.0  0.0    0.0  0.0  0.0   0.0\n",
       "3  ISIC_0024309  0.0  1.0  0.0    0.0  0.0  0.0   0.0\n",
       "4  ISIC_0024310  1.0  0.0  0.0    0.0  0.0  0.0   0.0"
      ]
     },
     "execution_count": 6,
     "metadata": {},
     "output_type": "execute_result"
    }
   ],
   "source": [
    "labels.head()"
   ]
  },
  {
   "cell_type": "code",
   "execution_count": 7,
   "metadata": {},
   "outputs": [
    {
     "data": {
      "text/html": [
       "<div>\n",
       "<style scoped>\n",
       "    .dataframe tbody tr th:only-of-type {\n",
       "        vertical-align: middle;\n",
       "    }\n",
       "\n",
       "    .dataframe tbody tr th {\n",
       "        vertical-align: top;\n",
       "    }\n",
       "\n",
       "    .dataframe thead th {\n",
       "        text-align: right;\n",
       "    }\n",
       "</style>\n",
       "<table border=\"1\" class=\"dataframe\">\n",
       "  <thead>\n",
       "    <tr style=\"text-align: right;\">\n",
       "      <th></th>\n",
       "      <th>image</th>\n",
       "      <th>NV</th>\n",
       "      <th>BCC</th>\n",
       "      <th>AKIEC</th>\n",
       "      <th>BKL</th>\n",
       "      <th>DF</th>\n",
       "      <th>VASC</th>\n",
       "    </tr>\n",
       "    <tr>\n",
       "      <th>MEL</th>\n",
       "      <th></th>\n",
       "      <th></th>\n",
       "      <th></th>\n",
       "      <th></th>\n",
       "      <th></th>\n",
       "      <th></th>\n",
       "      <th></th>\n",
       "    </tr>\n",
       "  </thead>\n",
       "  <tbody>\n",
       "    <tr>\n",
       "      <th>0.0</th>\n",
       "      <td>8902</td>\n",
       "      <td>8902</td>\n",
       "      <td>8902</td>\n",
       "      <td>8902</td>\n",
       "      <td>8902</td>\n",
       "      <td>8902</td>\n",
       "      <td>8902</td>\n",
       "    </tr>\n",
       "    <tr>\n",
       "      <th>1.0</th>\n",
       "      <td>1113</td>\n",
       "      <td>1113</td>\n",
       "      <td>1113</td>\n",
       "      <td>1113</td>\n",
       "      <td>1113</td>\n",
       "      <td>1113</td>\n",
       "      <td>1113</td>\n",
       "    </tr>\n",
       "  </tbody>\n",
       "</table>\n",
       "</div>"
      ],
      "text/plain": [
       "     image    NV   BCC  AKIEC   BKL    DF  VASC\n",
       "MEL                                            \n",
       "0.0   8902  8902  8902   8902  8902  8902  8902\n",
       "1.0   1113  1113  1113   1113  1113  1113  1113"
      ]
     },
     "execution_count": 7,
     "metadata": {},
     "output_type": "execute_result"
    }
   ],
   "source": [
    "labels.groupby('MEL').count()"
   ]
  },
  {
   "cell_type": "code",
   "execution_count": 8,
   "metadata": {},
   "outputs": [],
   "source": [
    "##BCC,DF,VASC,AKIEC\n",
    "BCC=list()\n",
    "DF=list()\n",
    "VASC=list()\n",
    "AKIEC=list()\n",
    "for index,row in labels.iterrows():\n",
    "    if row[\"BCC\"]==1:\n",
    "        BCC.append(row[\"image\"])\n",
    "    if row[\"DF\"]==1:\n",
    "        DF.append(row[\"image\"])\n",
    "    if row[\"VASC\"]==1:\n",
    "        VASC.append(row[\"image\"])\n",
    "    if row[\"AKIEC\"]==1:\n",
    "        AKIEC.append(row[\"image\"])"
   ]
  },
  {
   "cell_type": "code",
   "execution_count": 9,
   "metadata": {},
   "outputs": [
    {
     "data": {
      "text/plain": [
       "514"
      ]
     },
     "execution_count": 9,
     "metadata": {},
     "output_type": "execute_result"
    }
   ],
   "source": [
    "len(BCC)"
   ]
  },
  {
   "cell_type": "code",
   "execution_count": 10,
   "metadata": {},
   "outputs": [
    {
     "data": {
      "text/plain": [
       "'ISIC_0024331'"
      ]
     },
     "execution_count": 10,
     "metadata": {},
     "output_type": "execute_result"
    }
   ],
   "source": [
    "BCC[0]"
   ]
  },
  {
   "cell_type": "code",
   "execution_count": 16,
   "metadata": {},
   "outputs": [],
   "source": [
    "for i in BCC:\n",
    "    originalImage = cv2.imread('/home/sirzechlucifer/Work/CVPR_graphs/ISIC2018_input/'+i+\".jpg\")\n",
    "    flipVertical = cv2.flip(originalImage, 0)\n",
    "    flipHorizontal = cv2.flip(originalImage, 1)\n",
    "    flipBoth = cv2.flip(originalImage, -1)\n",
    "    #cv2.imwrite(\"/home/sirzechlucifer/Work/CVPR_graphs/Augmented_image/\"+i+\"_ver.jpg\", flipVertical) \n",
    "    #cv2.imwrite(\"/home/sirzechlucifer/Work/CVPR_graphs/Augmented_image/\"+i+\"_hor.jpg\", flipHorizontal)\n",
    "    cv2.imwrite(\"/home/sirzechlucifer/Work/CVPR_graphs/Augmented_image/\"+i+\"_both.jpg\", flipBoth)"
   ]
  },
  {
   "cell_type": "code",
   "execution_count": 17,
   "metadata": {},
   "outputs": [],
   "source": [
    "for i in DF:\n",
    "    originalImage = cv2.imread('/home/sirzechlucifer/Work/CVPR_graphs/ISIC2018_input/'+i+\".jpg\")\n",
    "    flipVertical = cv2.flip(originalImage, 0)\n",
    "    flipHorizontal = cv2.flip(originalImage, 1)\n",
    "    flipBoth = cv2.flip(originalImage, -1)\n",
    "    cv2.imwrite(\"/home/sirzechlucifer/Work/CVPR_graphs/Augmented_image/\"+i+\"_ver.jpg\", flipVertical) \n",
    "    cv2.imwrite(\"/home/sirzechlucifer/Work/CVPR_graphs/Augmented_image/\"+i+\"_hor.jpg\", flipHorizontal)\n",
    "    cv2.imwrite(\"/home/sirzechlucifer/Work/CVPR_graphs/Augmented_image/\"+i+\"_both.jpg\", flipBoth)"
   ]
  },
  {
   "cell_type": "code",
   "execution_count": 18,
   "metadata": {},
   "outputs": [
    {
     "data": {
      "text/plain": [
       "115"
      ]
     },
     "execution_count": 18,
     "metadata": {},
     "output_type": "execute_result"
    }
   ],
   "source": [
    "len(DF)"
   ]
  },
  {
   "cell_type": "code",
   "execution_count": 19,
   "metadata": {},
   "outputs": [],
   "source": [
    "for i in VASC:\n",
    "    originalImage = cv2.imread('/home/sirzechlucifer/Work/CVPR_graphs/ISIC2018_input/'+i+\".jpg\")\n",
    "    flipVertical = cv2.flip(originalImage, 0)\n",
    "    flipHorizontal = cv2.flip(originalImage, 1)\n",
    "    flipBoth = cv2.flip(originalImage, -1)\n",
    "    cv2.imwrite(\"/home/sirzechlucifer/Work/CVPR_graphs/Augmented_image/\"+i+\"_ver.jpg\", flipVertical) \n",
    "    cv2.imwrite(\"/home/sirzechlucifer/Work/CVPR_graphs/Augmented_image/\"+i+\"_hor.jpg\", flipHorizontal)\n",
    "    cv2.imwrite(\"/home/sirzechlucifer/Work/CVPR_graphs/Augmented_image/\"+i+\"_both.jpg\", flipBoth)"
   ]
  },
  {
   "cell_type": "code",
   "execution_count": 20,
   "metadata": {},
   "outputs": [],
   "source": [
    "for i in AKIEC:\n",
    "    originalImage = cv2.imread('/home/sirzechlucifer/Work/CVPR_graphs/ISIC2018_input/'+i+\".jpg\")\n",
    "    flipVertical = cv2.flip(originalImage, 0)\n",
    "    flipHorizontal = cv2.flip(originalImage, 1)\n",
    "    flipBoth = cv2.flip(originalImage, -1)\n",
    "    cv2.imwrite(\"/home/sirzechlucifer/Work/CVPR_graphs/Augmented_image/\"+i+\"_ver.jpg\", flipVertical) \n",
    "    cv2.imwrite(\"/home/sirzechlucifer/Work/CVPR_graphs/Augmented_image/\"+i+\"_hor.jpg\", flipHorizontal)\n",
    "    cv2.imwrite(\"/home/sirzechlucifer/Work/CVPR_graphs/Augmented_image/\"+i+\"_both.jpg\", flipBoth)"
   ]
  },
  {
   "cell_type": "code",
   "execution_count": 21,
   "metadata": {},
   "outputs": [],
   "source": [
    "aug_filelist=get_filelist(\"/home/sirzechlucifer/Work/CVPR_graphs/Augmented_image/\")"
   ]
  },
  {
   "cell_type": "code",
   "execution_count": 22,
   "metadata": {},
   "outputs": [
    {
     "data": {
      "text/plain": [
       "2266"
      ]
     },
     "execution_count": 22,
     "metadata": {},
     "output_type": "execute_result"
    }
   ],
   "source": [
    "len(aug_filelist)"
   ]
  },
  {
   "cell_type": "code",
   "execution_count": 42,
   "metadata": {},
   "outputs": [],
   "source": [
    "aug_da=list()\n",
    "for i in aug_filelist:\n",
    "    aug_da.append(aug_filelist[0].split(\"/\")[6].split(\".\")[0])"
   ]
  },
  {
   "cell_type": "code",
   "execution_count": 36,
   "metadata": {},
   "outputs": [],
   "source": [
    "aug_labels=list()\n",
    "for i in aug_filelist:\n",
    "    for j in AKIEC:\n",
    "        if i.split(\"/\")[6].split(\"_\")[1] in j:\n",
    "            aug_labels.append(3)\n",
    "    for j in BCC:\n",
    "        if i.split(\"/\")[6].split(\"_\")[1] in j:\n",
    "            aug_labels.append(2)\n",
    "    for j in VASC:\n",
    "        if i.split(\"/\")[6].split(\"_\")[1] in j:\n",
    "            aug_labels.append(6)\n",
    "    for j in DF:\n",
    "        if i.split(\"/\")[6].split(\"_\")[1] in j:\n",
    "            aug_labels.append(5)"
   ]
  },
  {
   "cell_type": "code",
   "execution_count": 37,
   "metadata": {},
   "outputs": [
    {
     "data": {
      "text/plain": [
       "2266"
      ]
     },
     "execution_count": 37,
     "metadata": {},
     "output_type": "execute_result"
    }
   ],
   "source": [
    "len(aug_labels)"
   ]
  },
  {
   "cell_type": "code",
   "execution_count": 39,
   "metadata": {},
   "outputs": [],
   "source": [
    "aug_list=list()\n",
    "for i in aug_labels:\n",
    "    if i==3:\n",
    "        aug_list.append([0.0,0.0,0.0,1.0,0.0,0.0,0.0])\n",
    "    if i==2:\n",
    "        aug_list.append([0.0,0.0,1.0,0.0,0.0,0.0,0.0])\n",
    "    if i==6:\n",
    "        aug_list.append([0.0,0.0,0.0,0.0,0.0,0.0,1.0])\n",
    "    if i==5:\n",
    "        aug_list.append([0.0,0.0,0.0,0.0,0.0,1.0,0.0])"
   ]
  },
  {
   "cell_type": "code",
   "execution_count": 45,
   "metadata": {},
   "outputs": [],
   "source": [
    "data={\"image\":aug_da,\"label\":aug_labels}\n",
    "aug_dataset=pd.DataFrame(data)"
   ]
  },
  {
   "cell_type": "code",
   "execution_count": 46,
   "metadata": {},
   "outputs": [
    {
     "data": {
      "text/html": [
       "<div>\n",
       "<style scoped>\n",
       "    .dataframe tbody tr th:only-of-type {\n",
       "        vertical-align: middle;\n",
       "    }\n",
       "\n",
       "    .dataframe tbody tr th {\n",
       "        vertical-align: top;\n",
       "    }\n",
       "\n",
       "    .dataframe thead th {\n",
       "        text-align: right;\n",
       "    }\n",
       "</style>\n",
       "<table border=\"1\" class=\"dataframe\">\n",
       "  <thead>\n",
       "    <tr style=\"text-align: right;\">\n",
       "      <th></th>\n",
       "      <th>image</th>\n",
       "      <th>label</th>\n",
       "    </tr>\n",
       "  </thead>\n",
       "  <tbody>\n",
       "    <tr>\n",
       "      <th>0</th>\n",
       "      <td>ISIC_0024318_both</td>\n",
       "      <td>5</td>\n",
       "    </tr>\n",
       "    <tr>\n",
       "      <th>1</th>\n",
       "      <td>ISIC_0024318_both</td>\n",
       "      <td>5</td>\n",
       "    </tr>\n",
       "    <tr>\n",
       "      <th>2</th>\n",
       "      <td>ISIC_0024318_both</td>\n",
       "      <td>5</td>\n",
       "    </tr>\n",
       "    <tr>\n",
       "      <th>3</th>\n",
       "      <td>ISIC_0024318_both</td>\n",
       "      <td>3</td>\n",
       "    </tr>\n",
       "    <tr>\n",
       "      <th>4</th>\n",
       "      <td>ISIC_0024318_both</td>\n",
       "      <td>3</td>\n",
       "    </tr>\n",
       "  </tbody>\n",
       "</table>\n",
       "</div>"
      ],
      "text/plain": [
       "               image  label\n",
       "0  ISIC_0024318_both      5\n",
       "1  ISIC_0024318_both      5\n",
       "2  ISIC_0024318_both      5\n",
       "3  ISIC_0024318_both      3\n",
       "4  ISIC_0024318_both      3"
      ]
     },
     "execution_count": 46,
     "metadata": {},
     "output_type": "execute_result"
    }
   ],
   "source": [
    "aug_dataset.head()"
   ]
  },
  {
   "cell_type": "code",
   "execution_count": 52,
   "metadata": {},
   "outputs": [],
   "source": [
    "MEL_new=list()\n",
    "NV_new=list()\n",
    "BCC_new=list()\n",
    "AKIEC_new=list()\n",
    "BKL_new=list()\n",
    "DF_new=list()\n",
    "VASC_new=list()\n",
    "for i,row in aug_dataset.iterrows():\n",
    "    if row[\"label\"]==3:\n",
    "        MEL_new.append(0.0)\n",
    "        NV_new.append(0.0)\n",
    "        BCC_new.append(0.0)\n",
    "        AKIEC_new.append(1.0)\n",
    "        BKL_new.append(0.0)\n",
    "        DF_new.append(0.0)\n",
    "        VASC_new.append(0.0)\n",
    "    if row[\"label\"]==2:\n",
    "        MEL_new.append(0.0)\n",
    "        NV_new.append(0.0)\n",
    "        BCC_new.append(1.0)\n",
    "        AKIEC_new.append(0.0)\n",
    "        BKL_new.append(0.0)\n",
    "        DF_new.append(0.0)\n",
    "        VASC_new.append(0.0)\n",
    "    if row[\"label\"]==6:\n",
    "        MEL_new.append(0.0)\n",
    "        NV_new.append(0.0)\n",
    "        BCC_new.append(0.0)\n",
    "        AKIEC_new.append(0.0)\n",
    "        BKL_new.append(0.0)\n",
    "        DF_new.append(0.0)\n",
    "        VASC_new.append(1.0)\n",
    "    if row[\"label\"]==5:\n",
    "        MEL_new.append(0.0)\n",
    "        NV_new.append(0.0)\n",
    "        BCC_new.append(0.0)\n",
    "        AKIEC_new.append(0.0)\n",
    "        BKL_new.append(0.0)\n",
    "        DF_new.append(1.0)\n",
    "        VASC_new.append(0.0)"
   ]
  },
  {
   "cell_type": "code",
   "execution_count": 53,
   "metadata": {},
   "outputs": [],
   "source": [
    "data={\"image\":aug_da,\"MEL\":MEL_new,\"NV\":NV_new,\"BCC\":BCC_new,\"AKIEC\":AKIEC_new,\"BKL\":BKL_new,\"DF\":DF_new,\"VASC\":VASC_new}\n",
    "aug_dat=pd.DataFrame(data)"
   ]
  },
  {
   "cell_type": "code",
   "execution_count": 54,
   "metadata": {},
   "outputs": [
    {
     "data": {
      "text/plain": [
       "2266"
      ]
     },
     "execution_count": 54,
     "metadata": {},
     "output_type": "execute_result"
    }
   ],
   "source": [
    "len(aug_da)"
   ]
  },
  {
   "cell_type": "code",
   "execution_count": 55,
   "metadata": {},
   "outputs": [
    {
     "data": {
      "text/plain": [
       "2266"
      ]
     },
     "execution_count": 55,
     "metadata": {},
     "output_type": "execute_result"
    }
   ],
   "source": [
    "len(MEL_new)"
   ]
  },
  {
   "cell_type": "code",
   "execution_count": 56,
   "metadata": {},
   "outputs": [
    {
     "data": {
      "text/html": [
       "<div>\n",
       "<style scoped>\n",
       "    .dataframe tbody tr th:only-of-type {\n",
       "        vertical-align: middle;\n",
       "    }\n",
       "\n",
       "    .dataframe tbody tr th {\n",
       "        vertical-align: top;\n",
       "    }\n",
       "\n",
       "    .dataframe thead th {\n",
       "        text-align: right;\n",
       "    }\n",
       "</style>\n",
       "<table border=\"1\" class=\"dataframe\">\n",
       "  <thead>\n",
       "    <tr style=\"text-align: right;\">\n",
       "      <th></th>\n",
       "      <th>image</th>\n",
       "      <th>MEL</th>\n",
       "      <th>NV</th>\n",
       "      <th>BCC</th>\n",
       "      <th>AKIEC</th>\n",
       "      <th>BKL</th>\n",
       "      <th>DF</th>\n",
       "      <th>VASC</th>\n",
       "    </tr>\n",
       "  </thead>\n",
       "  <tbody>\n",
       "    <tr>\n",
       "      <th>0</th>\n",
       "      <td>ISIC_0024318_both</td>\n",
       "      <td>0.0</td>\n",
       "      <td>0.0</td>\n",
       "      <td>0.0</td>\n",
       "      <td>0.0</td>\n",
       "      <td>0.0</td>\n",
       "      <td>1.0</td>\n",
       "      <td>0.0</td>\n",
       "    </tr>\n",
       "    <tr>\n",
       "      <th>1</th>\n",
       "      <td>ISIC_0024318_both</td>\n",
       "      <td>0.0</td>\n",
       "      <td>0.0</td>\n",
       "      <td>0.0</td>\n",
       "      <td>0.0</td>\n",
       "      <td>0.0</td>\n",
       "      <td>1.0</td>\n",
       "      <td>0.0</td>\n",
       "    </tr>\n",
       "    <tr>\n",
       "      <th>2</th>\n",
       "      <td>ISIC_0024318_both</td>\n",
       "      <td>0.0</td>\n",
       "      <td>0.0</td>\n",
       "      <td>0.0</td>\n",
       "      <td>0.0</td>\n",
       "      <td>0.0</td>\n",
       "      <td>1.0</td>\n",
       "      <td>0.0</td>\n",
       "    </tr>\n",
       "    <tr>\n",
       "      <th>3</th>\n",
       "      <td>ISIC_0024318_both</td>\n",
       "      <td>0.0</td>\n",
       "      <td>0.0</td>\n",
       "      <td>0.0</td>\n",
       "      <td>1.0</td>\n",
       "      <td>0.0</td>\n",
       "      <td>0.0</td>\n",
       "      <td>0.0</td>\n",
       "    </tr>\n",
       "    <tr>\n",
       "      <th>4</th>\n",
       "      <td>ISIC_0024318_both</td>\n",
       "      <td>0.0</td>\n",
       "      <td>0.0</td>\n",
       "      <td>0.0</td>\n",
       "      <td>1.0</td>\n",
       "      <td>0.0</td>\n",
       "      <td>0.0</td>\n",
       "      <td>0.0</td>\n",
       "    </tr>\n",
       "  </tbody>\n",
       "</table>\n",
       "</div>"
      ],
      "text/plain": [
       "               image  MEL   NV  BCC  AKIEC  BKL   DF  VASC\n",
       "0  ISIC_0024318_both  0.0  0.0  0.0    0.0  0.0  1.0   0.0\n",
       "1  ISIC_0024318_both  0.0  0.0  0.0    0.0  0.0  1.0   0.0\n",
       "2  ISIC_0024318_both  0.0  0.0  0.0    0.0  0.0  1.0   0.0\n",
       "3  ISIC_0024318_both  0.0  0.0  0.0    1.0  0.0  0.0   0.0\n",
       "4  ISIC_0024318_both  0.0  0.0  0.0    1.0  0.0  0.0   0.0"
      ]
     },
     "execution_count": 56,
     "metadata": {},
     "output_type": "execute_result"
    }
   ],
   "source": [
    "aug_dat.head()"
   ]
  },
  {
   "cell_type": "code",
   "execution_count": 57,
   "metadata": {},
   "outputs": [],
   "source": [
    "aug_dat.to_csv(\"augmented_dataset.csv\",index=False)"
   ]
  },
  {
   "cell_type": "code",
   "execution_count": null,
   "metadata": {},
   "outputs": [],
   "source": []
  }
 ],
 "metadata": {
  "kernelspec": {
   "display_name": "Python 3",
   "language": "python",
   "name": "python3"
  },
  "language_info": {
   "codemirror_mode": {
    "name": "ipython",
    "version": 3
   },
   "file_extension": ".py",
   "mimetype": "text/x-python",
   "name": "python",
   "nbconvert_exporter": "python",
   "pygments_lexer": "ipython3",
   "version": "3.7.3"
  }
 },
 "nbformat": 4,
 "nbformat_minor": 2
}
