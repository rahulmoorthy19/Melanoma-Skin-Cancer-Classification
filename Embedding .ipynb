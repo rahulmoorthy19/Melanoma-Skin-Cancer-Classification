{
 "cells": [
  {
   "cell_type": "code",
   "execution_count": 1,
   "metadata": {},
   "outputs": [],
   "source": [
    "import pandas as pd\n",
    "from skimage.segmentation import slic,quickshift\n",
    "from skimage.segmentation import mark_boundaries\n",
    "from skimage.util import img_as_float\n",
    "from skimage import io\n",
    "import matplotlib.pyplot as plt\n",
    "from PIL import Image\n",
    "import numpy as np\n",
    "from skimage.future import graph\n",
    "import networkx\n",
    "import glob"
   ]
  },
  {
   "cell_type": "code",
   "execution_count": 2,
   "metadata": {},
   "outputs": [],
   "source": [
    "def get_filelist(img_loc):\n",
    "    filelist = glob.glob(img_loc+'*.jpg')\n",
    "    filelist.sort()\n",
    "    return filelist"
   ]
  },
  {
   "cell_type": "code",
   "execution_count": 3,
   "metadata": {},
   "outputs": [],
   "source": [
    "filelist=get_filelist(\"/home/sirzechlucifer/Work/CVPR_graphs/ISIC2018_input/\")"
   ]
  },
  {
   "cell_type": "code",
   "execution_count": 8,
   "metadata": {},
   "outputs": [],
   "source": [
    "def preprocessing(filelist):\n",
    "    for i, fname in enumerate(filelist):\n",
    "        image = img_as_float(io.imread(fname))\n",
    "        segments = slic(image, n_segments = 50, sigma = 5)\n",
    "        rag = graph.rag_mean_color(image, segments)\n",
    "        f = open(\"graph_text_files/\"+fname.split(\"/\")[6].split(\".\")[0]+\".txt\", \"a\")\n",
    "        for line in networkx.generate_edgelist(rag, data=False):\n",
    "            f.write(line)\n",
    "            f.write(\"\\n\")\n",
    "        f.close()"
   ]
  },
  {
   "cell_type": "code",
   "execution_count": 9,
   "metadata": {},
   "outputs": [],
   "source": [
    "preprocessing(filelist)"
   ]
  },
  {
   "cell_type": "code",
   "execution_count": 10,
   "metadata": {},
   "outputs": [],
   "source": [
    "def get_text_filelist(txt_loc):\n",
    "    filelist = glob.glob(txt_loc+'*.txt')\n",
    "    filelist.sort()\n",
    "    return filelist"
   ]
  },
  {
   "cell_type": "code",
   "execution_count": 11,
   "metadata": {},
   "outputs": [],
   "source": [
    "txt_filelist=get_text_filelist(\"/home/sirzechlucifer/Work/CVPR_graphs/graph_text_files/\")"
   ]
  },
  {
   "cell_type": "code",
   "execution_count": 12,
   "metadata": {},
   "outputs": [
    {
     "data": {
      "text/plain": [
       "10015"
      ]
     },
     "execution_count": 12,
     "metadata": {},
     "output_type": "execute_result"
    }
   ],
   "source": [
    "len(txt_filelist)"
   ]
  },
  {
   "cell_type": "code",
   "execution_count": 13,
   "metadata": {},
   "outputs": [],
   "source": [
    "import os"
   ]
  },
  {
   "cell_type": "code",
   "execution_count": 14,
   "metadata": {},
   "outputs": [],
   "source": [
    "def graph_preprocessing(filelist):\n",
    "    for i, fname in enumerate(filelist):\n",
    "        os.system(\"python /home/sirzechlucifer/Work/CVPR_graphs/HARP/src/harp.py --input \"+fname+\" --format edgelist  --model line --output /home/sirzechlucifer/Work/CVPR_graphs/harp_numpy_files/\"+fname.split(\"/\")[6].split(\".\")[0]+\".npy\"+\" --sfdp-path /home/sirzechlucifer/Work/CVPR_graphs/HARP/bin/sfdp_linux\")"
   ]
  },
  {
   "cell_type": "code",
   "execution_count": 15,
   "metadata": {},
   "outputs": [],
   "source": [
    "graph_preprocessing(txt_filelist)"
   ]
  },
  {
   "cell_type": "code",
   "execution_count": 16,
   "metadata": {},
   "outputs": [],
   "source": [
    "def get_npy_filelist(npy_loc):\n",
    "    filelist = glob.glob(npy_loc+'*.npy')\n",
    "    filelist.sort()\n",
    "    return filelist"
   ]
  },
  {
   "cell_type": "code",
   "execution_count": 17,
   "metadata": {},
   "outputs": [],
   "source": [
    "npy_filelist=get_npy_filelist(\"/home/sirzechlucifer/Work/CVPR_graphs/harp_numpy_files/\")"
   ]
  },
  {
   "cell_type": "code",
   "execution_count": 21,
   "metadata": {},
   "outputs": [],
   "source": [
    "embed=np.load(npy_filelist[0])"
   ]
  },
  {
   "cell_type": "code",
   "execution_count": 23,
   "metadata": {},
   "outputs": [],
   "source": [
    "embed_flat=embed.flatten()"
   ]
  },
  {
   "cell_type": "code",
   "execution_count": 25,
   "metadata": {},
   "outputs": [
    {
     "data": {
      "text/plain": [
       "(3072,)"
      ]
     },
     "execution_count": 25,
     "metadata": {},
     "output_type": "execute_result"
    }
   ],
   "source": [
    "embed_flat.shape"
   ]
  },
  {
   "cell_type": "code",
   "execution_count": 30,
   "metadata": {},
   "outputs": [],
   "source": [
    "def npy_preprocessing(filelist):\n",
    "    X_orig = np.empty([10015, 3200])\n",
    "    for i, fname in enumerate(filelist):\n",
    "        embed=np.load(fname)\n",
    "        embed_flat=embed.flatten()\n",
    "        if embed_flat.shape[0]!=3200:\n",
    "            result = np.zeros((3200))\n",
    "            result[:embed_flat.shape[0]] = embed_flat\n",
    "            X_orig[i]=result\n",
    "        else:\n",
    "            X_orig[i]=embed_flat\n",
    "\n",
    "    return X_orig"
   ]
  },
  {
   "cell_type": "code",
   "execution_count": 31,
   "metadata": {},
   "outputs": [],
   "source": [
    "embed_features=npy_preprocessing(npy_filelist)"
   ]
  },
  {
   "cell_type": "code",
   "execution_count": 34,
   "metadata": {},
   "outputs": [],
   "source": [
    "np.save('graph_embedding.npy', embed_features)"
   ]
  },
  {
   "cell_type": "code",
   "execution_count": null,
   "metadata": {},
   "outputs": [],
   "source": []
  }
 ],
 "metadata": {
  "kernelspec": {
   "display_name": "Python 3",
   "language": "python",
   "name": "python3"
  },
  "language_info": {
   "codemirror_mode": {
    "name": "ipython",
    "version": 3
   },
   "file_extension": ".py",
   "mimetype": "text/x-python",
   "name": "python",
   "nbconvert_exporter": "python",
   "pygments_lexer": "ipython3",
   "version": "3.7.3"
  }
 },
 "nbformat": 4,
 "nbformat_minor": 2
}
